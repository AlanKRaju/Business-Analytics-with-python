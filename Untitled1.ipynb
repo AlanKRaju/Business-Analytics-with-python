{
  "nbformat": 4,
  "nbformat_minor": 0,
  "metadata": {
    "colab": {
      "name": "Untitled1.ipynb",
      "provenance": []
    },
    "kernelspec": {
      "name": "python3",
      "display_name": "Python 3"
    },
    "language_info": {
      "name": "python"
    }
  },
  "cells": [
    {
      "cell_type": "code",
      "metadata": {
        "colab": {
          "base_uri": "https://localhost:8080/"
        },
        "id": "T9eQQVTDysoB",
        "outputId": "b644588d-3280-4e45-e540-2e8d34b12655"
      },
      "source": [
        "x=10\n",
        "y=20\n",
        "z=x+y\n",
        "print(z)"
      ],
      "execution_count": null,
      "outputs": [
        {
          "output_type": "stream",
          "name": "stdout",
          "text": [
            "30\n"
          ]
        }
      ]
    },
    {
      "cell_type": "code",
      "metadata": {
        "id": "XbL4Rt2Cy_Tv"
      },
      "source": [
        "def add():\n",
        "  x=int(input(\"enter a no\"))\n",
        "  y=int(input(\"entr a value\"))\n",
        "  print(x+y)"
      ],
      "execution_count": null,
      "outputs": []
    },
    {
      "cell_type": "code",
      "metadata": {
        "colab": {
          "base_uri": "https://localhost:8080/"
        },
        "id": "PYlWMbRSzUC8",
        "outputId": "377c5c46-71b6-4780-8226-e55b31294da0"
      },
      "source": [
        "add()"
      ],
      "execution_count": null,
      "outputs": [
        {
          "output_type": "stream",
          "name": "stdout",
          "text": [
            "enter a no5\n",
            "entr a value4\n",
            "9\n"
          ]
        }
      ]
    },
    {
      "cell_type": "code",
      "metadata": {
        "id": "kpY_DrB4zlvv"
      },
      "source": [
        "def sub():\n",
        "  x=int(input(\"enter a no\"))\n",
        "  y=int(input(\"entr a value\"))\n",
        "  print(x-y)"
      ],
      "execution_count": null,
      "outputs": []
    },
    {
      "cell_type": "code",
      "metadata": {
        "colab": {
          "base_uri": "https://localhost:8080/"
        },
        "id": "2-65gKgTzqQI",
        "outputId": "b0cfb42d-9363-4a6c-da9b-db93dfd6e3ef"
      },
      "source": [
        "sub()"
      ],
      "execution_count": null,
      "outputs": [
        {
          "output_type": "stream",
          "name": "stdout",
          "text": [
            "enter a no5\n",
            "entr a value4\n",
            "1\n"
          ]
        }
      ]
    },
    {
      "cell_type": "code",
      "metadata": {
        "id": "-kNiU9wezvcS"
      },
      "source": [
        "def divide():\n",
        "  x=int(input(\"enter a no\"))\n",
        "  y=int(input(\"entr a value\"))\n",
        "  print(x/y)"
      ],
      "execution_count": null,
      "outputs": []
    },
    {
      "cell_type": "code",
      "metadata": {
        "colab": {
          "base_uri": "https://localhost:8080/"
        },
        "id": "gHJjheAhz0L6",
        "outputId": "68e66765-f495-4fe4-ce16-1ecdf25e849d"
      },
      "source": [
        "divide()"
      ],
      "execution_count": null,
      "outputs": [
        {
          "output_type": "stream",
          "name": "stdout",
          "text": [
            "enter a no10\n",
            "entr a value5\n",
            "2.0\n"
          ]
        }
      ]
    },
    {
      "cell_type": "code",
      "metadata": {
        "id": "gevJK2Vlz5aE"
      },
      "source": [
        "def multiply():\n",
        "  x=int(input(\"enter a no\"))\n",
        "  y=int(input(\"entr a value\"))\n",
        "  print(x*y)"
      ],
      "execution_count": null,
      "outputs": []
    },
    {
      "cell_type": "code",
      "metadata": {
        "colab": {
          "base_uri": "https://localhost:8080/"
        },
        "id": "r_xCbuGVz9y1",
        "outputId": "f3f88fb7-fef4-45cb-c9e5-a6dd167725df"
      },
      "source": [
        "multiply()"
      ],
      "execution_count": null,
      "outputs": [
        {
          "output_type": "stream",
          "name": "stdout",
          "text": [
            "enter a no5\n",
            "entr a value4\n",
            "20\n"
          ]
        }
      ]
    },
    {
      "cell_type": "code",
      "metadata": {
        "id": "IpZBrg-xz_ut"
      },
      "source": [
        "def number():\n",
        "  z=int(input(\"enter a function\"))\n",
        "  if z==1:\n",
        "    v=add()\n",
        "    print(v)\n",
        "  if z==2:\n",
        "    v=sub()  \n",
        "    print(v)\n",
        "  if z==3:\n",
        "    v=divide()\n",
        "    print(v)  \n",
        "  if z==4:\n",
        "    v=multiply()  \n",
        "    print(v)\n",
        "    \n"
      ],
      "execution_count": null,
      "outputs": []
    },
    {
      "cell_type": "code",
      "metadata": {
        "colab": {
          "base_uri": "https://localhost:8080/"
        },
        "id": "ARtzcWfP1CjG",
        "outputId": "c6c1a80b-c67f-4e82-98fd-57d45c2baef4"
      },
      "source": [
        "number()"
      ],
      "execution_count": null,
      "outputs": [
        {
          "output_type": "stream",
          "name": "stdout",
          "text": [
            "enter a function1\n",
            "enter a no5\n",
            "entr a value4\n",
            "9\n",
            "None\n"
          ]
        }
      ]
    },
    {
      "cell_type": "code",
      "metadata": {
        "colab": {
          "base_uri": "https://localhost:8080/"
        },
        "id": "nqdu-f-Q1Ell",
        "outputId": "2b392a53-e659-44bb-d88e-86f4fe7b94c1"
      },
      "source": [
        "number()"
      ],
      "execution_count": null,
      "outputs": [
        {
          "output_type": "stream",
          "name": "stdout",
          "text": [
            "enter a function2\n",
            "enter a no5\n",
            "entr a value4\n",
            "1\n",
            "None\n"
          ]
        }
      ]
    },
    {
      "cell_type": "code",
      "metadata": {
        "colab": {
          "base_uri": "https://localhost:8080/"
        },
        "id": "tBD1N6WE1LRv",
        "outputId": "6f3e5674-7dd0-4c09-dfd5-ec06b50cb9bf"
      },
      "source": [
        "number()"
      ],
      "execution_count": null,
      "outputs": [
        {
          "output_type": "stream",
          "name": "stdout",
          "text": [
            "enter a function3\n",
            "enter a no5\n",
            "entr a value4\n",
            "1.25\n",
            "None\n"
          ]
        }
      ]
    },
    {
      "cell_type": "code",
      "metadata": {
        "colab": {
          "base_uri": "https://localhost:8080/"
        },
        "id": "mtjzhc2e1OJH",
        "outputId": "4b213142-9c9f-4baa-ff94-77a59c7d226c"
      },
      "source": [
        "number()"
      ],
      "execution_count": null,
      "outputs": [
        {
          "output_type": "stream",
          "name": "stdout",
          "text": [
            "enter a function4\n",
            "enter a no5\n",
            "entr a value4\n",
            "20\n",
            "None\n"
          ]
        }
      ]
    },
    {
      "cell_type": "code",
      "metadata": {
        "id": "cCBa1VM21Siv"
      },
      "source": [
        "def add(x,y):\n",
        "   z=x+y\n",
        "   print(z)"
      ],
      "execution_count": null,
      "outputs": []
    },
    {
      "cell_type": "code",
      "metadata": {
        "colab": {
          "base_uri": "https://localhost:8080/"
        },
        "id": "WkuZtP2Y1xVU",
        "outputId": "c596f430-2923-4237-b491-379a7b9fa4c4"
      },
      "source": [
        "add(4,5)"
      ],
      "execution_count": null,
      "outputs": [
        {
          "output_type": "stream",
          "name": "stdout",
          "text": [
            "9\n"
          ]
        }
      ]
    },
    {
      "cell_type": "code",
      "metadata": {
        "colab": {
          "base_uri": "https://localhost:8080/"
        },
        "id": "xjfrzWBd2DNw",
        "outputId": "00a804f8-f148-4705-d5ae-3a8577b086b0"
      },
      "source": [
        "x=int(input(\"enter a no\"))\n",
        "y=int(input(\"enter a no\"))\n",
        "add(x,y)"
      ],
      "execution_count": null,
      "outputs": [
        {
          "output_type": "stream",
          "name": "stdout",
          "text": [
            "enter a no5\n",
            "enter a no4\n",
            "9\n"
          ]
        }
      ]
    },
    {
      "cell_type": "code",
      "metadata": {
        "id": "UWesAZZY3J_A"
      },
      "source": [
        "def sub(x,y):\n",
        "   z=x-y\n",
        "   print(z)"
      ],
      "execution_count": null,
      "outputs": []
    },
    {
      "cell_type": "code",
      "metadata": {
        "id": "Lu9Zq1v93QOa"
      },
      "source": [
        "def multiply(x,y):\n",
        "   z=x*y\n",
        "   print(z)"
      ],
      "execution_count": null,
      "outputs": []
    },
    {
      "cell_type": "code",
      "metadata": {
        "id": "gqx-wll33VAX"
      },
      "source": [
        "def divide(x,y):\n",
        "  z=x/y\n",
        "  print(z)"
      ],
      "execution_count": null,
      "outputs": []
    },
    {
      "cell_type": "code",
      "metadata": {
        "colab": {
          "base_uri": "https://localhost:8080/"
        },
        "id": "Lcsf0eVe346f",
        "outputId": "41090e7c-7a98-40f2-d437-f7c6c7e37fc8"
      },
      "source": [
        "x=int(input(\"enter a no\"))\n",
        "y=int(input(\"enter a no\"))\n",
        "z=int(input(\"enter the function\"))\n",
        "if z==1:\n",
        "  v=add(x,y)\n",
        "  print(v)\n",
        "if z==2:\n",
        "  v=sub(x,y)  \n",
        "  print(v)\n",
        "if z==3:\n",
        "  v=divide(x,y)\n",
        "  print(v)  \n",
        "if z==4:\n",
        "  v=multiply(x,y)  \n",
        "  print(v)"
      ],
      "execution_count": null,
      "outputs": [
        {
          "output_type": "stream",
          "name": "stdout",
          "text": [
            "enter a no5\n",
            "enter a no4\n",
            "enter the function3\n",
            "1.25\n",
            "None\n"
          ]
        }
      ]
    },
    {
      "cell_type": "code",
      "metadata": {
        "id": "p5KHBzJH4h_L"
      },
      "source": [
        ""
      ],
      "execution_count": null,
      "outputs": []
    }
  ]
}