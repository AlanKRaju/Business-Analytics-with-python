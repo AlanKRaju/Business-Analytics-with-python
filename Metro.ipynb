{
  "nbformat": 4,
  "nbformat_minor": 0,
  "metadata": {
    "colab": {
      "name": "Metro.ipynb",
      "provenance": [],
      "collapsed_sections": []
    },
    "kernelspec": {
      "name": "python3",
      "display_name": "Python 3"
    },
    "language_info": {
      "name": "python"
    }
  },
  "cells": [
    {
      "cell_type": "code",
      "execution_count": null,
      "metadata": {
        "id": "BYFrG0jH8Uc4"
      },
      "outputs": [],
      "source": [
        "import pandas as pd\n",
        "import matplotlib.pyplot as plt\n",
        "import numpy as np\n",
        "\n",
        "plt.rc('font', size=15)          # controls default text sizes\n",
        "plt.rc('axes', titlesize=15)     # fontsize of the axes title\n",
        "plt.rc('axes', labelsize=25)    # fontsize of the x and y labels\n",
        "plt.rc('xtick', labelsize=15)    # fontsize of the tick labels\n",
        "plt.rc('ytick', labelsize=15)    # fontsize of the tick labels\n",
        "plt.rc('legend', fontsize=15)    # legend fontsize\n",
        "plt.rcParams['font.family'] = 'serif'\n",
        "plt.rcParams['font.serif'] = ['Times New Roman'] + plt.rcParams['font.serif']"
      ]
    },
    {
      "cell_type": "code",
      "source": [
        "df=pd.read_excel(\"KMRL SURVEY - FINAL.xlsx\")"
      ],
      "metadata": {
        "id": "Tayc_XbP8ix8"
      },
      "execution_count": null,
      "outputs": []
    },
    {
      "cell_type": "code",
      "source": [
        "df.head()"
      ],
      "metadata": {
        "colab": {
          "base_uri": "https://localhost:8080/",
          "height": 406
        },
        "id": "8UM_etzkER5V",
        "outputId": "5c9ac48d-dd45-4965-cb07-6c28cf3214c4"
      },
      "execution_count": null,
      "outputs": [
        {
          "output_type": "execute_result",
          "data": {
            "text/html": [
              "\n",
              "  <div id=\"df-914148c3-fc36-4239-99ac-30c65c1915df\">\n",
              "    <div class=\"colab-df-container\">\n",
              "      <div>\n",
              "<style scoped>\n",
              "    .dataframe tbody tr th:only-of-type {\n",
              "        vertical-align: middle;\n",
              "    }\n",
              "\n",
              "    .dataframe tbody tr th {\n",
              "        vertical-align: top;\n",
              "    }\n",
              "\n",
              "    .dataframe thead th {\n",
              "        text-align: right;\n",
              "    }\n",
              "</style>\n",
              "<table border=\"1\" class=\"dataframe\">\n",
              "  <thead>\n",
              "    <tr style=\"text-align: right;\">\n",
              "      <th></th>\n",
              "      <th>CM</th>\n",
              "      <th>MF</th>\n",
              "      <th>AGE</th>\n",
              "      <th>SL</th>\n",
              "      <th>MTRS</th>\n",
              "      <th>ATIM</th>\n",
              "      <th>SM</th>\n",
              "      <th>DM</th>\n",
              "      <th>DL</th>\n",
              "      <th>MTRD</th>\n",
              "      <th>FB</th>\n",
              "      <th>PC</th>\n",
              "      <th>IS</th>\n",
              "      <th>MDS</th>\n",
              "      <th>NumB</th>\n",
              "      <th>EM</th>\n",
              "    </tr>\n",
              "  </thead>\n",
              "  <tbody>\n",
              "    <tr>\n",
              "      <th>0</th>\n",
              "      <td>Jincy Sarah</td>\n",
              "      <td>MALE</td>\n",
              "      <td>23.0</td>\n",
              "      <td>Kalamassery</td>\n",
              "      <td>Walking</td>\n",
              "      <td>07:00:00</td>\n",
              "      <td>Kalamassery</td>\n",
              "      <td>NaN</td>\n",
              "      <td>NaN</td>\n",
              "      <td>NaN</td>\n",
              "      <td>NaN</td>\n",
              "      <td>No</td>\n",
              "      <td>Kalamassery</td>\n",
              "      <td>NaN</td>\n",
              "      <td>7.736287e+09</td>\n",
              "      <td>idicullajincy@gmail.com</td>\n",
              "    </tr>\n",
              "    <tr>\n",
              "      <th>1</th>\n",
              "      <td>Josin J</td>\n",
              "      <td>MALE</td>\n",
              "      <td>18.0</td>\n",
              "      <td>Athani, Nebumbassery</td>\n",
              "      <td>Bus</td>\n",
              "      <td>06:50:00</td>\n",
              "      <td>Aluva</td>\n",
              "      <td>Kalamassery</td>\n",
              "      <td>Rajagiri</td>\n",
              "      <td>Walking</td>\n",
              "      <td>Not required</td>\n",
              "      <td>No</td>\n",
              "      <td>Kalamassery</td>\n",
              "      <td>Car/bus</td>\n",
              "      <td>8.848907e+09</td>\n",
              "      <td>josinpemala007@gmail.com</td>\n",
              "    </tr>\n",
              "    <tr>\n",
              "      <th>2</th>\n",
              "      <td>Joseph Alexander</td>\n",
              "      <td>MALE</td>\n",
              "      <td>35.0</td>\n",
              "      <td>Aluva</td>\n",
              "      <td>Motorcycle / Scooter</td>\n",
              "      <td>07:00:00</td>\n",
              "      <td>Edapally</td>\n",
              "      <td>Aluva</td>\n",
              "      <td>Work</td>\n",
              "      <td>Walking</td>\n",
              "      <td>Extension of metro station from aluva to more ...</td>\n",
              "      <td>No</td>\n",
              "      <td>Edapally</td>\n",
              "      <td>Bike</td>\n",
              "      <td>7.736050e+09</td>\n",
              "      <td>joalexander999@gmail.com</td>\n",
              "    </tr>\n",
              "    <tr>\n",
              "      <th>3</th>\n",
              "      <td>Krishnan</td>\n",
              "      <td>MALE</td>\n",
              "      <td>69.0</td>\n",
              "      <td>Edapilly Toll</td>\n",
              "      <td>Motorcycle / Scooter</td>\n",
              "      <td>07:30:00</td>\n",
              "      <td>Edapally</td>\n",
              "      <td>Aluva</td>\n",
              "      <td>Near Aluva Station</td>\n",
              "      <td>Autorickshaw</td>\n",
              "      <td>Thrikkakara-Thoppil-Thevakal Route will be best.</td>\n",
              "      <td>No</td>\n",
              "      <td>Edapally</td>\n",
              "      <td>Two wheeler or Four wheeler</td>\n",
              "      <td>9.745824e+09</td>\n",
              "      <td>krishnan16970@gmail.com</td>\n",
              "    </tr>\n",
              "    <tr>\n",
              "      <th>4</th>\n",
              "      <td>Anitha</td>\n",
              "      <td>FEMALE</td>\n",
              "      <td>48.0</td>\n",
              "      <td>Thravor</td>\n",
              "      <td>Bus</td>\n",
              "      <td>07:20:00</td>\n",
              "      <td>Edapally</td>\n",
              "      <td>Aluva</td>\n",
              "      <td>Work</td>\n",
              "      <td>Bus</td>\n",
              "      <td>Good.</td>\n",
              "      <td>No</td>\n",
              "      <td>Edapally</td>\n",
              "      <td>Bus</td>\n",
              "      <td>9.961170e+09</td>\n",
              "      <td>NaN</td>\n",
              "    </tr>\n",
              "  </tbody>\n",
              "</table>\n",
              "</div>\n",
              "      <button class=\"colab-df-convert\" onclick=\"convertToInteractive('df-914148c3-fc36-4239-99ac-30c65c1915df')\"\n",
              "              title=\"Convert this dataframe to an interactive table.\"\n",
              "              style=\"display:none;\">\n",
              "        \n",
              "  <svg xmlns=\"http://www.w3.org/2000/svg\" height=\"24px\"viewBox=\"0 0 24 24\"\n",
              "       width=\"24px\">\n",
              "    <path d=\"M0 0h24v24H0V0z\" fill=\"none\"/>\n",
              "    <path d=\"M18.56 5.44l.94 2.06.94-2.06 2.06-.94-2.06-.94-.94-2.06-.94 2.06-2.06.94zm-11 1L8.5 8.5l.94-2.06 2.06-.94-2.06-.94L8.5 2.5l-.94 2.06-2.06.94zm10 10l.94 2.06.94-2.06 2.06-.94-2.06-.94-.94-2.06-.94 2.06-2.06.94z\"/><path d=\"M17.41 7.96l-1.37-1.37c-.4-.4-.92-.59-1.43-.59-.52 0-1.04.2-1.43.59L10.3 9.45l-7.72 7.72c-.78.78-.78 2.05 0 2.83L4 21.41c.39.39.9.59 1.41.59.51 0 1.02-.2 1.41-.59l7.78-7.78 2.81-2.81c.8-.78.8-2.07 0-2.86zM5.41 20L4 18.59l7.72-7.72 1.47 1.35L5.41 20z\"/>\n",
              "  </svg>\n",
              "      </button>\n",
              "      \n",
              "  <style>\n",
              "    .colab-df-container {\n",
              "      display:flex;\n",
              "      flex-wrap:wrap;\n",
              "      gap: 12px;\n",
              "    }\n",
              "\n",
              "    .colab-df-convert {\n",
              "      background-color: #E8F0FE;\n",
              "      border: none;\n",
              "      border-radius: 50%;\n",
              "      cursor: pointer;\n",
              "      display: none;\n",
              "      fill: #1967D2;\n",
              "      height: 32px;\n",
              "      padding: 0 0 0 0;\n",
              "      width: 32px;\n",
              "    }\n",
              "\n",
              "    .colab-df-convert:hover {\n",
              "      background-color: #E2EBFA;\n",
              "      box-shadow: 0px 1px 2px rgba(60, 64, 67, 0.3), 0px 1px 3px 1px rgba(60, 64, 67, 0.15);\n",
              "      fill: #174EA6;\n",
              "    }\n",
              "\n",
              "    [theme=dark] .colab-df-convert {\n",
              "      background-color: #3B4455;\n",
              "      fill: #D2E3FC;\n",
              "    }\n",
              "\n",
              "    [theme=dark] .colab-df-convert:hover {\n",
              "      background-color: #434B5C;\n",
              "      box-shadow: 0px 1px 3px 1px rgba(0, 0, 0, 0.15);\n",
              "      filter: drop-shadow(0px 1px 2px rgba(0, 0, 0, 0.3));\n",
              "      fill: #FFFFFF;\n",
              "    }\n",
              "  </style>\n",
              "\n",
              "      <script>\n",
              "        const buttonEl =\n",
              "          document.querySelector('#df-914148c3-fc36-4239-99ac-30c65c1915df button.colab-df-convert');\n",
              "        buttonEl.style.display =\n",
              "          google.colab.kernel.accessAllowed ? 'block' : 'none';\n",
              "\n",
              "        async function convertToInteractive(key) {\n",
              "          const element = document.querySelector('#df-914148c3-fc36-4239-99ac-30c65c1915df');\n",
              "          const dataTable =\n",
              "            await google.colab.kernel.invokeFunction('convertToInteractive',\n",
              "                                                     [key], {});\n",
              "          if (!dataTable) return;\n",
              "\n",
              "          const docLinkHtml = 'Like what you see? Visit the ' +\n",
              "            '<a target=\"_blank\" href=https://colab.research.google.com/notebooks/data_table.ipynb>data table notebook</a>'\n",
              "            + ' to learn more about interactive tables.';\n",
              "          element.innerHTML = '';\n",
              "          dataTable['output_type'] = 'display_data';\n",
              "          await google.colab.output.renderOutput(dataTable, element);\n",
              "          const docLink = document.createElement('div');\n",
              "          docLink.innerHTML = docLinkHtml;\n",
              "          element.appendChild(docLink);\n",
              "        }\n",
              "      </script>\n",
              "    </div>\n",
              "  </div>\n",
              "  "
            ],
            "text/plain": [
              "                 CM      MF  ...          NumB                        EM\n",
              "0       Jincy Sarah    MALE  ...  7.736287e+09   idicullajincy@gmail.com\n",
              "1           Josin J    MALE  ...  8.848907e+09  josinpemala007@gmail.com\n",
              "2  Joseph Alexander    MALE  ...  7.736050e+09  joalexander999@gmail.com\n",
              "3          Krishnan    MALE  ...  9.745824e+09   krishnan16970@gmail.com\n",
              "4            Anitha  FEMALE  ...  9.961170e+09                       NaN\n",
              "\n",
              "[5 rows x 16 columns]"
            ]
          },
          "metadata": {},
          "execution_count": 18
        }
      ]
    },
    {
      "cell_type": "code",
      "source": [
        "new_data=[len(df)]\n",
        "for x in df.index:\n",
        "  if (df.loc[x, \"SL\"] == \"Aluva\") and (df.loc[x, \"DL\"] == \"Cochin University\"):\n",
        "    new_data.append(df.loc[x, \"MTRS\"])\n",
        "new_data\n",
        "values = [new_data.count('Walking'),new_data.count('Motorcycle / Scooter'),new_data.count('Bus'),new_data.count('Autorickshaw'),new_data.count('Car')] \n",
        "labels = ['Walking','Motorcycle / Scooter','Autorickshaw','Bus','Car'] \n",
        "plt.figure(figsize=(15,10))\n",
        "plt.title(\"Aluva to Cochin University First Mile\")\n",
        "plt.pie(values, labels=labels, autopct='%.2f')\n",
        "plt.show()"
      ],
      "metadata": {
        "colab": {
          "base_uri": "https://localhost:8080/",
          "height": 592
        },
        "id": "GEQnSeXK8q1r",
        "outputId": "5be8fe99-14fc-43c4-da83-ef0113d75e03"
      },
      "execution_count": null,
      "outputs": [
        {
          "output_type": "display_data",
          "data": {
            "image/png": "[encoded data removed]",
            "text/plain": [
              "<Figure size 1080x720 with 1 Axes>"
            ]
          },
          "metadata": {}
        }
      ]
    },
    {
      "cell_type": "code",
      "source": [
        "df=pd.read_excel(\"KMRL SURVEY - FINAL.xlsx\")\n",
        "\n",
        "new_data=[len(df)]\n",
        "\n",
        "for x in df.index:\n",
        "  if (df.loc[x, \"SL\"] == \"Kalamassery\") and (df.loc[x, \"DL\"] == \"Edapally\") :\n",
        "    new_data.append(df.loc[x, \"MTRS\"])\n",
        "new_data\n",
        "\n",
        "x = new_data\n",
        "keys, counts = np.unique(x, return_counts=True)\n",
        "plt.figure(figsize=(15,10))\n",
        "plt.bar(keys, counts)\n",
        "plt.show()\n"
      ],
      "metadata": {
        "colab": {
          "base_uri": "https://localhost:8080/",
          "height": 596
        },
        "id": "w92s6DnAGe65",
        "outputId": "bdc35b9a-8268-4c0e-d540-7c9d2f7d3d2c"
      },
      "execution_count": null,
      "outputs": [
        {
          "output_type": "display_data",
          "data": {
            "image/png": "[encoded data removed]",
            "text/plain": [
              "<Figure size 1080x720 with 1 Axes>"
            ]
          },
          "metadata": {
            "needs_background": "light"
          }
        }
      ]
    },
    {
      "cell_type": "code",
      "source": [
        "new_data=[len(df)]\n",
        "for x in df.index:\n",
        "  if (df.loc[x, \"SL\"] == \"Aluva\") and (df.loc[x, \"DL\"] == \"Edapally\"):\n",
        "    new_data.append(df.loc[x, \"MTRS\"])\n",
        "new_data\n",
        "values = [new_data.count('Walking'),new_data.count('Autorickshaw')] \n",
        "labels = ['Walking','Autorickshaw'] \n",
        "plt.figure(figsize=(15,10))\n",
        "plt.title(\"Aluva to Edapally First Mile\")\n",
        "plt.pie(values, labels=labels, autopct='%.2f')\n",
        "plt.show()\n"
      ],
      "metadata": {
        "id": "jneI7ShkNoe9",
        "colab": {
          "base_uri": "https://localhost:8080/",
          "height": 592
        },
        "outputId": "e44abcd2-2a38-4716-bca2-d1625e43cd13"
      },
      "execution_count": null,
      "outputs": [
        {
          "output_type": "display_data",
          "data": {
            "image/png": "[encoded data removed]",
            "text/plain": [
              "<Figure size 1080x720 with 1 Axes>"
            ]
          },
          "metadata": {}
        }
      ]
    },
    {
      "cell_type": "code",
      "source": [
        "new_data=[len(df)]\n",
        "for x in df.index:\n",
        "  if (df.loc[x, \"SL\"] == \"Aluva\") and (df.loc[x, \"DL\"] == \"Kalamassery\"):\n",
        "    new_data.append(df.loc[x, \"MTRS\"])\n",
        "new_data\n",
        "values = [new_data.count('Walking')] \n",
        "labels = ['Walking'] \n",
        "plt.figure(figsize=(15,10))\n",
        "plt.title(\"Aluva to Kalamassery First Mile\")\n",
        "plt.pie(values, labels=labels, autopct='%.2f')\n",
        "plt.show()"
      ],
      "metadata": {
        "colab": {
          "base_uri": "https://localhost:8080/",
          "height": 592
        },
        "id": "ogDEVhICVgUQ",
        "outputId": "d816e873-b630-4367-c826-7abad2bf29cb"
      },
      "execution_count": null,
      "outputs": [
        {
          "output_type": "display_data",
          "data": {
            "image/png": "[encoded data removed]",
            "text/plain": [
              "<Figure size 1080x720 with 1 Axes>"
            ]
          },
          "metadata": {}
        }
      ]
    },
    {
      "cell_type": "code",
      "source": [
        "new_data=[len(df)]\n",
        "for x in df.index:\n",
        "  if (df.loc[x, \"SL\"] == \"Aluva\") and (df.loc[x, \"DL\"] == \"Cochin University\"):\n",
        "    new_data.append(df.loc[x, \"MTRS\"])\n",
        "new_data\n",
        "values = [new_data.count('Bus')] \n",
        "labels = ['Bus'] \n",
        "plt.figure(figsize=(15,10))\n",
        "plt.title(\"Aluva to Edapally First Mile\")\n",
        "plt.pie(values, labels=labels, autopct='%.2f')\n",
        "plt.show()"
      ],
      "metadata": {
        "colab": {
          "base_uri": "https://localhost:8080/",
          "height": 592
        },
        "id": "xsy84O8UkR5y",
        "outputId": "b9651af3-8354-4314-c1a5-1c5c271de473"
      },
      "execution_count": null,
      "outputs": [
        {
          "output_type": "display_data",
          "data": {
            "image/png": "[encoded data removed]",
            "text/plain": [
              "<Figure size 1080x720 with 1 Axes>"
            ]
          },
          "metadata": {}
        }
      ]
    },
    {
      "cell_type": "code",
      "source": [
        "new_data=[len(df)]\n",
        "for x in df.index:\n",
        " df.loc[x, \"SL\"] == \"Aluva\":\n",
        "    new_data.append(df.loc[x, \"MTRS\"])\n",
        "new_data\n",
        "values = [new_data.count('Bus')] \n",
        "labels = ['Bus'] \n",
        "plt.figure(figsize=(15,10))\n",
        "plt.title(\"Aluva to Edapally First Mile\")\n",
        "plt.pie(values, labels=labels, autopct='%.2f')\n",
        "plt.show()"
      ],
      "metadata": {
        "id": "D0EVPHC3qBh8",
        "colab": {
          "base_uri": "https://localhost:8080/",
          "height": 134
        },
        "outputId": "fc60c28c-ab65-4991-82ba-e5941c035573"
      },
      "execution_count": null,
      "outputs": [
        {
          "output_type": "error",
          "ename": "SyntaxError",
          "evalue": "ignored",
          "traceback": [
            "\u001b[0;36m  File \u001b[0;32m\"<ipython-input-3-92198bd1edb2>\"\u001b[0;36m, line \u001b[0;32m3\u001b[0m\n\u001b[0;31m    df.loc[x, \"SL\"] == \"Aluva\":\u001b[0m\n\u001b[0m                               ^\u001b[0m\n\u001b[0;31mSyntaxError\u001b[0m\u001b[0;31m:\u001b[0m invalid syntax\n"
          ]
        }
      ]
    },
    {
      "cell_type": "code",
      "source": [
        ""
      ],
      "metadata": {
        "id": "BpSMxRgrIe8q"
      },
      "execution_count": null,
      "outputs": []
    }
  ]
}