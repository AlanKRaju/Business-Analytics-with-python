{
  "nbformat": 4,
  "nbformat_minor": 0,
  "metadata": {
    "colab": {
      "name": "Untitled3.ipynb",
      "provenance": []
    },
    "kernelspec": {
      "name": "python3",
      "display_name": "Python 3"
    },
    "language_info": {
      "name": "python"
    }
  },
  "cells": [
    {
      "cell_type": "code",
      "metadata": {
        "colab": {
          "base_uri": "https://localhost:8080/"
        },
        "id": "iyau5W3vGlag",
        "outputId": "5ddc8704-4be8-44a8-b951-876dc360adff"
      },
      "source": [
        "amt=int(input(\"enter the amount\"))\n",
        "if amt<=250000:\n",
        "  tax=0\n",
        "if amt<=500000 and amt>250000:\n",
        "  x=amt-250000\n",
        "  tax=(x*5)/100\n",
        "if amt<=75000 and amt>500000:\n",
        "  x=amt-500000\n",
        "  tax=12500+x*(10/100)\n",
        "if amt<=1000000 and amt>750000:\n",
        "  x=amt-750000\n",
        "  tax=37500+x*(15/100)\n",
        "if amt<=1250000 and amt>1000000:\n",
        "  x=amt-1000000\n",
        "  tax=75000+(x*20)/100\n",
        "if amt<=1500000  and amt>1250000:\n",
        "   x=amt-1250000\n",
        "   tax=125000+(x*25)/100\n",
        "if amt>1500000:\n",
        "  x=amt-1500000\n",
        "  tax=187500+(x*30)/100\n",
        "print(tax)"
      ],
      "execution_count": null,
      "outputs": [
        {
          "output_type": "stream",
          "name": "stdout",
          "text": [
            "enter the amount800000\n",
            "45000.0\n"
          ]
        }
      ]
    },
    {
      "cell_type": "code",
      "metadata": {
        "id": "EnULILNaT0hw",
        "colab": {
          "base_uri": "https://localhost:8080/"
        },
        "outputId": "eace7845-47b9-4fcc-c117-9aa05a22f2cc"
      },
      "source": [
        "amt=int(input(\"enter the amount\"))\n",
        "def Alan(a,b,c,d):\n",
        "  x=a-b\n",
        "  tax=c+x*(d/100)\n",
        "  print(tax)\n",
        "if amt<=250000:\n",
        "  tax=0\n",
        "if amt<=500000 and amt>250000:\n",
        "  Alan(amt,250000,0,5)\n",
        "if amt<=75000 and amt>500000:\n",
        "  Alan(amt,500000,12500,10)\n",
        "if amt<=1000000 and amt>750000:\n",
        "  Alan(amt,750000,37500,15)\n",
        "if amt<=1250000 and amt>1000000:\n",
        "  Alan(amt,100000,75000,20)\n",
        "if amt<=1500000  and amt>1250000:\n",
        "  Alan(amt,1250000,125000,25)\n",
        "if amt>1500000:\n",
        "  Alan(amt,1500000,187500,30)"
      ],
      "execution_count": null,
      "outputs": [
        {
          "output_type": "stream",
          "name": "stdout",
          "text": [
            "enter the amount300000\n",
            "2500.0\n"
          ]
        }
      ]
    },
    {
      "cell_type": "code",
      "metadata": {
        "id": "4RbiGsVcRNwd"
      },
      "source": [
        ""
      ],
      "execution_count": null,
      "outputs": []
    }
  ]
}