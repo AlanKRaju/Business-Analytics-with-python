{
  "nbformat": 4,
  "nbformat_minor": 0,
  "metadata": {
    "colab": {
      "name": " Intel Coorperation.ipynb",
      "provenance": [],
      "collapsed_sections": []
    },
    "kernelspec": {
      "name": "python3",
      "display_name": "Python 3"
    },
    "language_info": {
      "name": "python"
    }
  },
  "cells": [
    {
      "cell_type": "code",
      "execution_count": 14,
      "metadata": {
        "id": "nntIKQryqlZM"
      },
      "outputs": [],
      "source": [
        "import numpy as np\n",
        "import matplotlib.pyplot as plt\n",
        "import pandas as pd"
      ]
    },
    {
      "cell_type": "code",
      "source": [
        "dataset = pd.read_csv('Intel Coorperation.csv')"
      ],
      "metadata": {
        "id": "0dFKfg6OyJ7F"
      },
      "execution_count": 15,
      "outputs": []
    },
    {
      "cell_type": "code",
      "source": [
        "x = dataset.iloc[:, :-1].values"
      ],
      "metadata": {
        "id": "zuQxRQxdyNTr"
      },
      "execution_count": 16,
      "outputs": []
    },
    {
      "cell_type": "code",
      "source": [
        "x"
      ],
      "metadata": {
        "colab": {
          "base_uri": "https://localhost:8080/"
        },
        "id": "IBuwr1d8yPWj",
        "outputId": "695ec258-dada-450e-b57c-042fa5a3516c"
      },
      "execution_count": 17,
      "outputs": [
        {
          "output_type": "execute_result",
          "data": {
            "text/plain": [
              "array([[  1],\n",
              "       [  2],\n",
              "       [  3],\n",
              "       [  4],\n",
              "       [  5],\n",
              "       [  6],\n",
              "       [  7],\n",
              "       [  8],\n",
              "       [  9],\n",
              "       [ 10],\n",
              "       [ 11],\n",
              "       [ 12],\n",
              "       [ 13],\n",
              "       [ 14],\n",
              "       [ 15],\n",
              "       [ 16],\n",
              "       [ 17],\n",
              "       [ 18],\n",
              "       [ 19],\n",
              "       [ 20],\n",
              "       [ 21],\n",
              "       [ 22],\n",
              "       [ 23],\n",
              "       [ 24],\n",
              "       [ 25],\n",
              "       [ 26],\n",
              "       [ 27],\n",
              "       [ 28],\n",
              "       [ 29],\n",
              "       [ 30],\n",
              "       [ 31],\n",
              "       [ 32],\n",
              "       [ 33],\n",
              "       [ 34],\n",
              "       [ 35],\n",
              "       [ 36],\n",
              "       [ 37],\n",
              "       [ 38],\n",
              "       [ 39],\n",
              "       [ 40],\n",
              "       [ 41],\n",
              "       [ 42],\n",
              "       [ 43],\n",
              "       [ 44],\n",
              "       [ 45],\n",
              "       [ 46],\n",
              "       [ 47],\n",
              "       [ 48],\n",
              "       [ 49],\n",
              "       [ 50],\n",
              "       [ 51],\n",
              "       [ 52],\n",
              "       [ 53],\n",
              "       [ 54],\n",
              "       [ 55],\n",
              "       [ 56],\n",
              "       [ 57],\n",
              "       [ 58],\n",
              "       [ 59],\n",
              "       [ 60],\n",
              "       [ 61],\n",
              "       [ 62],\n",
              "       [ 63],\n",
              "       [ 64],\n",
              "       [ 65],\n",
              "       [ 66],\n",
              "       [ 67],\n",
              "       [ 68],\n",
              "       [ 69],\n",
              "       [ 70],\n",
              "       [ 71],\n",
              "       [ 72],\n",
              "       [ 73],\n",
              "       [ 74],\n",
              "       [ 75],\n",
              "       [ 76],\n",
              "       [ 77],\n",
              "       [ 78],\n",
              "       [ 79],\n",
              "       [ 80],\n",
              "       [ 81],\n",
              "       [ 82],\n",
              "       [ 83],\n",
              "       [ 84],\n",
              "       [ 85],\n",
              "       [ 86],\n",
              "       [ 87],\n",
              "       [ 88],\n",
              "       [ 89],\n",
              "       [ 90],\n",
              "       [ 91],\n",
              "       [ 92],\n",
              "       [ 93],\n",
              "       [ 94],\n",
              "       [ 95],\n",
              "       [ 96],\n",
              "       [ 97],\n",
              "       [ 98],\n",
              "       [ 99],\n",
              "       [100],\n",
              "       [101],\n",
              "       [102],\n",
              "       [103],\n",
              "       [104],\n",
              "       [105],\n",
              "       [106],\n",
              "       [107],\n",
              "       [108],\n",
              "       [109],\n",
              "       [110],\n",
              "       [111],\n",
              "       [112],\n",
              "       [113],\n",
              "       [114],\n",
              "       [115],\n",
              "       [116],\n",
              "       [117],\n",
              "       [118],\n",
              "       [119],\n",
              "       [120],\n",
              "       [121],\n",
              "       [122],\n",
              "       [123],\n",
              "       [124],\n",
              "       [125],\n",
              "       [126],\n",
              "       [127],\n",
              "       [128],\n",
              "       [129],\n",
              "       [130],\n",
              "       [131],\n",
              "       [132],\n",
              "       [133],\n",
              "       [134],\n",
              "       [135],\n",
              "       [136],\n",
              "       [137],\n",
              "       [138],\n",
              "       [139],\n",
              "       [140],\n",
              "       [141],\n",
              "       [142],\n",
              "       [143],\n",
              "       [144],\n",
              "       [145],\n",
              "       [146],\n",
              "       [147],\n",
              "       [148],\n",
              "       [149],\n",
              "       [150],\n",
              "       [151],\n",
              "       [152],\n",
              "       [153],\n",
              "       [154],\n",
              "       [155],\n",
              "       [156],\n",
              "       [157],\n",
              "       [158],\n",
              "       [159],\n",
              "       [160],\n",
              "       [161],\n",
              "       [162],\n",
              "       [163],\n",
              "       [164],\n",
              "       [165],\n",
              "       [166],\n",
              "       [167],\n",
              "       [168],\n",
              "       [169],\n",
              "       [170],\n",
              "       [171],\n",
              "       [172],\n",
              "       [173],\n",
              "       [174],\n",
              "       [175],\n",
              "       [176],\n",
              "       [177],\n",
              "       [178],\n",
              "       [179],\n",
              "       [180],\n",
              "       [181],\n",
              "       [182],\n",
              "       [183],\n",
              "       [184],\n",
              "       [185],\n",
              "       [186],\n",
              "       [187],\n",
              "       [188],\n",
              "       [189],\n",
              "       [190],\n",
              "       [191],\n",
              "       [192],\n",
              "       [193],\n",
              "       [194],\n",
              "       [195],\n",
              "       [196],\n",
              "       [197],\n",
              "       [198],\n",
              "       [199],\n",
              "       [200],\n",
              "       [201],\n",
              "       [202],\n",
              "       [203],\n",
              "       [204],\n",
              "       [205],\n",
              "       [206],\n",
              "       [207],\n",
              "       [208],\n",
              "       [209],\n",
              "       [210],\n",
              "       [211],\n",
              "       [212],\n",
              "       [213],\n",
              "       [214],\n",
              "       [215],\n",
              "       [216],\n",
              "       [217],\n",
              "       [218],\n",
              "       [219],\n",
              "       [220],\n",
              "       [221],\n",
              "       [222],\n",
              "       [223],\n",
              "       [224],\n",
              "       [225],\n",
              "       [226],\n",
              "       [227],\n",
              "       [228],\n",
              "       [229],\n",
              "       [230],\n",
              "       [231],\n",
              "       [232],\n",
              "       [233],\n",
              "       [234],\n",
              "       [235],\n",
              "       [236],\n",
              "       [237],\n",
              "       [238],\n",
              "       [239],\n",
              "       [240],\n",
              "       [241],\n",
              "       [242],\n",
              "       [243],\n",
              "       [244],\n",
              "       [245],\n",
              "       [246],\n",
              "       [247],\n",
              "       [248],\n",
              "       [249],\n",
              "       [250],\n",
              "       [251],\n",
              "       [252]])"
            ]
          },
          "metadata": {},
          "execution_count": 17
        }
      ]
    },
    {
      "cell_type": "code",
      "source": [
        "y = dataset.iloc[:, -1].values"
      ],
      "metadata": {
        "id": "xOw9WE5JyPwL"
      },
      "execution_count": 18,
      "outputs": []
    },
    {
      "cell_type": "code",
      "source": [
        "y"
      ],
      "metadata": {
        "colab": {
          "base_uri": "https://localhost:8080/"
        },
        "id": "N5Tu6pf3yRhj",
        "outputId": "b321d32e-4ade-4756-adcc-d34dd3d8ad0b"
      },
      "execution_count": 19,
      "outputs": [
        {
          "output_type": "execute_result",
          "data": {
            "text/plain": [
              "array([57.939999, 58.240002, 59.040001, 58.849998, 56.380001, 55.279999,\n",
              "       54.610001, 54.790001, 55.98    , 55.950001, 57.189999, 57.889999,\n",
              "       57.610001, 59.      , 58.380001, 58.77    , 59.299999, 59.099998,\n",
              "       60.599998, 62.      , 61.490002, 60.650002, 61.91    , 61.880001,\n",
              "       60.48    , 60.529999, 62.41    , 60.889999, 61.720001, 62.799999,\n",
              "       60.639999, 59.830002, 59.259998, 60.470001, 61.18    , 63.220001,\n",
              "       62.939999, 62.650002, 63.610001, 64.150002, 64.220001, 65.629997,\n",
              "       63.18    , 64.82    , 66.      , 66.580002, 61.66    , 61.799999,\n",
              "       64.010002, 63.77    , 64.010002, 64.720001, 64.949997, 66.059998,\n",
              "       65.669998, 66.970001, 66.800003, 68.199997, 65.610001, 65.309998,\n",
              "       63.970001, 65.330002, 64.699997, 63.639999, 62.790001, 63.349998,\n",
              "       59.16    , 59.099998, 58.560001, 57.52    , 57.880001, 57.610001,\n",
              "       57.860001, 56.880001, 56.959999, 56.619999, 57.700001, 57.150002,\n",
              "       55.049999, 54.389999, 54.040001, 54.599998, 55.290001, 55.950001,\n",
              "       54.07    , 55.57    , 56.419998, 56.650002, 57.560001, 57.049999,\n",
              "       57.110001, 57.549999, 57.610001, 56.91    , 56.98    , 56.549999,\n",
              "       57.41    , 57.450001, 57.360001, 57.150002, 57.470001, 58.02    ,\n",
              "       58.209999, 58.150002, 57.049999, 56.68    , 55.75    , 55.939999,\n",
              "       55.869999, 55.490002, 56.02    , 56.360001, 57.549999, 56.34    ,\n",
              "       56.130001, 56.549999, 56.919998, 56.369999, 55.310001, 55.509998,\n",
              "       56.259998, 56.619999, 57.169998, 56.400002, 56.049999, 54.41    ,\n",
              "       54.919998, 55.18    , 56.060001, 54.580002, 52.810001, 53.119999,\n",
              "       53.029999, 53.48    , 53.650002, 53.990002, 53.889999, 54.25    ,\n",
              "       53.990002, 53.860001, 54.080002, 54.240002, 54.259998, 54.169998,\n",
              "       53.5     , 53.23    , 53.169998, 52.599998, 52.049999, 52.16    ,\n",
              "       52.59    , 53.560001, 54.080002, 53.75    , 53.360001, 54.259998,\n",
              "       54.439999, 54.110001, 53.799999, 53.439999, 53.57    , 53.73    ,\n",
              "       53.66    , 53.849998, 54.610001, 55.369999, 54.669998, 54.860001,\n",
              "       54.59    , 53.209999, 53.200001, 53.400002, 53.75    , 53.779999,\n",
              "       53.939999, 54.18    , 54.      , 53.759998, 53.650002, 53.93    ,\n",
              "       53.549999, 53.48    , 54.32    , 54.549999, 53.810001, 53.57    ,\n",
              "       52.380001, 52.900002, 54.200001, 54.189999, 54.630001, 55.25    ,\n",
              "       54.93    , 50.389999, 49.830002, 49.400002, 48.52    , 48.139999,\n",
              "       48.099998, 49.400002, 49.610001, 49.93    , 50.240002, 50.549999,\n",
              "       51.459999, 51.540001, 50.98    , 51.009998, 50.599998, 50.41    ,\n",
              "       50.369999, 50.599998, 50.240002, 49.599998, 49.549999, 50.16    ,\n",
              "       48.860001, 48.900002, 49.299999, 49.5     , 49.84    , 48.610001,\n",
              "       49.68    , 49.48    , 54.66    , 52.57    , 51.299999, 50.84    ,\n",
              "       50.849998, 49.82    , 49.869999, 50.740002, 50.59    , 49.91    ,\n",
              "       49.939999, 50.639999, 51.080002, 51.349998, 51.93    , 51.810001,\n",
              "       51.919998, 51.889999, 51.650002, 53.57    , 54.189999, 54.610001,\n",
              "       54.189999, 53.970001, 55.5     , 56.139999, 56.      , 54.849998])"
            ]
          },
          "metadata": {},
          "execution_count": 19
        }
      ]
    },
    {
      "cell_type": "code",
      "source": [
        "from sklearn.linear_model import LinearRegression\n",
        "regressor = LinearRegression()\n",
        "regressor.fit(x,y)"
      ],
      "metadata": {
        "colab": {
          "base_uri": "https://localhost:8080/"
        },
        "id": "BH841Y40ydDr",
        "outputId": "dcae6b5c-0c18-4dc0-b526-7d8571b854ba"
      },
      "execution_count": 20,
      "outputs": [
        {
          "output_type": "execute_result",
          "data": {
            "text/plain": [
              "LinearRegression()"
            ]
          },
          "metadata": {},
          "execution_count": 20
        }
      ]
    },
    {
      "cell_type": "code",
      "source": [
        "y_pred = regressor.predict(x)"
      ],
      "metadata": {
        "id": "qPQcBYEOylq6"
      },
      "execution_count": 22,
      "outputs": []
    },
    {
      "cell_type": "code",
      "source": [
        "plt.scatter(x, y, color = 'red')\n",
        "plt.plot(x, regressor.predict(x), color = 'blue')\n",
        "plt.xlabel('Date')\n",
        "plt.ylabel('Open')\n",
        "plt.show()"
      ],
      "metadata": {
        "colab": {
          "base_uri": "https://localhost:8080/",
          "height": 279
        },
        "id": "U1za_W1dyrgt",
        "outputId": "bc849059-0995-41c1-cdae-f4fc1ee824ad"
      },
      "execution_count": 23,
      "outputs": [
        {
          "output_type": "display_data",
          "data": {
            "image/png": "[encoded data removed]",
            "text/plain": [
              "<Figure size 432x288 with 1 Axes>"
            ]
          },
          "metadata": {
            "needs_background": "light"
          }
        }
      ]
    },
    {
      "cell_type": "code",
      "source": [
        ""
      ],
      "metadata": {
        "id": "hgYGERKXyx8R"
      },
      "execution_count": null,
      "outputs": []
    }
  ]
}