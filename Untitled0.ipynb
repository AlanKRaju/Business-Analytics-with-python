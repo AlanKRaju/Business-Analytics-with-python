{
  "nbformat": 4,
  "nbformat_minor": 0,
  "metadata": {
    "colab": {
      "name": "Untitled0.ipynb",
      "provenance": []
    },
    "kernelspec": {
      "name": "python3",
      "display_name": "Python 3"
    },
    "language_info": {
      "name": "python"
    }
  },
  "cells": [
    {
      "cell_type": "code",
      "metadata": {
        "id": "bvV6iET6RsNO"
      },
      "source": [
        "x,y,z=\"a\",\"b\",\"c\""
      ],
      "execution_count": null,
      "outputs": []
    },
    {
      "cell_type": "code",
      "metadata": {
        "colab": {
          "base_uri": "https://localhost:8080/"
        },
        "id": "w0QuanqNSBtE",
        "outputId": "649baf54-78c3-4439-a17a-572098654f2c"
      },
      "source": [
        "print(x)"
      ],
      "execution_count": null,
      "outputs": [
        {
          "output_type": "stream",
          "name": "stdout",
          "text": [
            "a\n"
          ]
        }
      ]
    },
    {
      "cell_type": "code",
      "metadata": {
        "colab": {
          "base_uri": "https://localhost:8080/"
        },
        "id": "zNcfdDlsSFEt",
        "outputId": "e9aeab26-b208-4b7b-98b9-2bcb7b02ea34"
      },
      "source": [
        "print(y)"
      ],
      "execution_count": null,
      "outputs": [
        {
          "output_type": "stream",
          "name": "stdout",
          "text": [
            "b\n"
          ]
        }
      ]
    },
    {
      "cell_type": "code",
      "metadata": {
        "id": "1YsYmcY8SWtV",
        "colab": {
          "base_uri": "https://localhost:8080/"
        },
        "outputId": "a9c89cb8-7d1c-473d-e5ce-7a4205a7a8eb"
      },
      "source": [
        "print(x,y,z)"
      ],
      "execution_count": null,
      "outputs": [
        {
          "output_type": "stream",
          "name": "stdout",
          "text": [
            "a b c\n"
          ]
        }
      ]
    },
    {
      "cell_type": "code",
      "metadata": {
        "id": "1vkp80IASavX"
      },
      "source": [
        "import math"
      ],
      "execution_count": null,
      "outputs": []
    },
    {
      "cell_type": "code",
      "metadata": {
        "colab": {
          "base_uri": "https://localhost:8080/"
        },
        "id": "Mg725CBuTe43",
        "outputId": "ee4d2d0d-f42b-4081-88cd-69d6d9d89ade"
      },
      "source": [
        "math.pi"
      ],
      "execution_count": null,
      "outputs": [
        {
          "output_type": "execute_result",
          "data": {
            "text/plain": [
              "3.141592653589793"
            ]
          },
          "metadata": {},
          "execution_count": 9
        }
      ]
    },
    {
      "cell_type": "code",
      "metadata": {
        "colab": {
          "base_uri": "https://localhost:8080/"
        },
        "id": "euVpavVrTg6E",
        "outputId": "fad6f115-64de-4f7a-fdc6-c13873e6d45c"
      },
      "source": [
        "math.cos(0)"
      ],
      "execution_count": null,
      "outputs": [
        {
          "output_type": "execute_result",
          "data": {
            "text/plain": [
              "1.0"
            ]
          },
          "metadata": {},
          "execution_count": 10
        }
      ]
    },
    {
      "cell_type": "code",
      "metadata": {
        "colab": {
          "base_uri": "https://localhost:8080/"
        },
        "id": "mwsHUAjJT8RE",
        "outputId": "968bded8-4df6-4859-b29c-a2f96c3058f3"
      },
      "source": [
        "math.sin(math.pi/2)"
      ],
      "execution_count": null,
      "outputs": [
        {
          "output_type": "execute_result",
          "data": {
            "text/plain": [
              "1.0"
            ]
          },
          "metadata": {},
          "execution_count": 12
        }
      ]
    },
    {
      "cell_type": "code",
      "metadata": {
        "id": "A5AAvqvdUJ3P"
      },
      "source": [
        "import math as s"
      ],
      "execution_count": null,
      "outputs": []
    },
    {
      "cell_type": "code",
      "metadata": {
        "colab": {
          "base_uri": "https://localhost:8080/"
        },
        "id": "U4C8TuV7VM9v",
        "outputId": "a0ade851-ce6a-49e9-ecc2-7ff3ecdb589a"
      },
      "source": [
        "import math as s\n",
        "x=float(input(\"En\"))\n",
        "y=float(input(\"enter the function\"))\n",
        "if y == 1:\n",
        " print(s.sin(x))\n",
        "if y == 2:\n",
        "  print(s.cos(x))\n",
        "if y == 3: \n",
        "  print(s.tan(x))\n",
        "if y == 4:\n",
        "  print(s.log(x))"
      ],
      "execution_count": null,
      "outputs": [
        {
          "output_type": "stream",
          "name": "stdout",
          "text": [
            "En2\n",
            "enter the function2\n",
            "-0.4161468365471424\n"
          ]
        }
      ]
    },
    {
      "cell_type": "code",
      "metadata": {
        "id": "JeQuDfd5V7Hr"
      },
      "source": [
        "def Alan():\n",
        "    x=int(input(\"enter a number\"))\n",
        "    print(\"sq of x=\",x*x)"
      ],
      "execution_count": null,
      "outputs": []
    },
    {
      "cell_type": "code",
      "metadata": {
        "colab": {
          "base_uri": "https://localhost:8080/"
        },
        "id": "LTbBI0ciek2l",
        "outputId": "d68f44d5-4b1b-4786-a490-204c4d2f8f1c"
      },
      "source": [
        "Alan()"
      ],
      "execution_count": null,
      "outputs": [
        {
          "output_type": "stream",
          "name": "stdout",
          "text": [
            "enter a number5\n",
            "sq of x= 25\n"
          ]
        }
      ]
    },
    {
      "cell_type": "code",
      "metadata": {
        "id": "iQHfDqfse7YG"
      },
      "source": [
        "def ayana():\n",
        "  print(\"sqr of x\",x*x)"
      ],
      "execution_count": null,
      "outputs": []
    },
    {
      "cell_type": "code",
      "metadata": {
        "colab": {
          "base_uri": "https://localhost:8080/"
        },
        "id": "lYsT5zRMgTG0",
        "outputId": "8cd5a860-bb40-4a0d-9bf4-05ae85b4e867"
      },
      "source": [
        "x=int(input(\"enter a number\"))\n",
        "ayana()"
      ],
      "execution_count": null,
      "outputs": [
        {
          "output_type": "stream",
          "name": "stdout",
          "text": [
            "enter a number5\n",
            "sqr of x 25\n"
          ]
        }
      ]
    },
    {
      "cell_type": "code",
      "metadata": {
        "id": "7uLjyXftgqHK"
      },
      "source": [
        ""
      ],
      "execution_count": null,
      "outputs": []
    }
  ]
}