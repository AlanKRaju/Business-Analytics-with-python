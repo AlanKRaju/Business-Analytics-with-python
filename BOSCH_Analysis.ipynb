{
  "cells": [
    {
      "cell_type": "code",
      "execution_count": 14,
      "id": "7e0d871f",
      "metadata": {
        "id": "7e0d871f"
      },
      "outputs": [],
      "source": [
        "import pandas as pd"
      ]
    },
    {
      "cell_type": "code",
      "execution_count": 15,
      "id": "476d53ff",
      "metadata": {
        "id": "476d53ff"
      },
      "outputs": [],
      "source": [
        "df=pd.read_csv(\"BOSCH.csv\")"
      ]
    },
    {
      "cell_type": "code",
      "execution_count": 16,
      "id": "f2b4a031",
      "metadata": {
        "colab": {
          "base_uri": "https://localhost:8080/",
          "height": 423
        },
        "id": "f2b4a031",
        "outputId": "82ad1225-4ea4-4fc7-bd8d-fa60aefb3935"
      },
      "outputs": [
        {
          "output_type": "execute_result",
          "data": {
            "text/html": [
              "\n",
              "  <div id=\"df-bef4b76f-8a0e-4471-bbd1-657e1ce9a127\">\n",
              "    <div class=\"colab-df-container\">\n",
              "      <div>\n",
              "<style scoped>\n",
              "    .dataframe tbody tr th:only-of-type {\n",
              "        vertical-align: middle;\n",
              "    }\n",
              "\n",
              "    .dataframe tbody tr th {\n",
              "        vertical-align: top;\n",
              "    }\n",
              "\n",
              "    .dataframe thead th {\n",
              "        text-align: right;\n",
              "    }\n",
              "</style>\n",
              "<table border=\"1\" class=\"dataframe\">\n",
              "  <thead>\n",
              "    <tr style=\"text-align: right;\">\n",
              "      <th></th>\n",
              "      <th>Date</th>\n",
              "      <th>Open</th>\n",
              "    </tr>\n",
              "  </thead>\n",
              "  <tbody>\n",
              "    <tr>\n",
              "      <th>0</th>\n",
              "      <td>1</td>\n",
              "      <td>14760.00000</td>\n",
              "    </tr>\n",
              "    <tr>\n",
              "      <th>1</th>\n",
              "      <td>2</td>\n",
              "      <td>14650.00000</td>\n",
              "    </tr>\n",
              "    <tr>\n",
              "      <th>2</th>\n",
              "      <td>3</td>\n",
              "      <td>15164.65039</td>\n",
              "    </tr>\n",
              "    <tr>\n",
              "      <th>3</th>\n",
              "      <td>4</td>\n",
              "      <td>15910.00000</td>\n",
              "    </tr>\n",
              "    <tr>\n",
              "      <th>4</th>\n",
              "      <td>5</td>\n",
              "      <td>15848.90039</td>\n",
              "    </tr>\n",
              "    <tr>\n",
              "      <th>...</th>\n",
              "      <td>...</td>\n",
              "      <td>...</td>\n",
              "    </tr>\n",
              "    <tr>\n",
              "      <th>244</th>\n",
              "      <td>245</td>\n",
              "      <td>17390.00000</td>\n",
              "    </tr>\n",
              "    <tr>\n",
              "      <th>245</th>\n",
              "      <td>246</td>\n",
              "      <td>17364.94922</td>\n",
              "    </tr>\n",
              "    <tr>\n",
              "      <th>246</th>\n",
              "      <td>247</td>\n",
              "      <td>17350.00000</td>\n",
              "    </tr>\n",
              "    <tr>\n",
              "      <th>247</th>\n",
              "      <td>248</td>\n",
              "      <td>17630.00000</td>\n",
              "    </tr>\n",
              "    <tr>\n",
              "      <th>248</th>\n",
              "      <td>249</td>\n",
              "      <td>17849.50000</td>\n",
              "    </tr>\n",
              "  </tbody>\n",
              "</table>\n",
              "<p>249 rows × 2 columns</p>\n",
              "</div>\n",
              "      <button class=\"colab-df-convert\" onclick=\"convertToInteractive('df-bef4b76f-8a0e-4471-bbd1-657e1ce9a127')\"\n",
              "              title=\"Convert this dataframe to an interactive table.\"\n",
              "              style=\"display:none;\">\n",
              "        \n",
              "  <svg xmlns=\"http://www.w3.org/2000/svg\" height=\"24px\"viewBox=\"0 0 24 24\"\n",
              "       width=\"24px\">\n",
              "    <path d=\"M0 0h24v24H0V0z\" fill=\"none\"/>\n",
              "    <path d=\"M18.56 5.44l.94 2.06.94-2.06 2.06-.94-2.06-.94-.94-2.06-.94 2.06-2.06.94zm-11 1L8.5 8.5l.94-2.06 2.06-.94-2.06-.94L8.5 2.5l-.94 2.06-2.06.94zm10 10l.94 2.06.94-2.06 2.06-.94-2.06-.94-.94-2.06-.94 2.06-2.06.94z\"/><path d=\"M17.41 7.96l-1.37-1.37c-.4-.4-.92-.59-1.43-.59-.52 0-1.04.2-1.43.59L10.3 9.45l-7.72 7.72c-.78.78-.78 2.05 0 2.83L4 21.41c.39.39.9.59 1.41.59.51 0 1.02-.2 1.41-.59l7.78-7.78 2.81-2.81c.8-.78.8-2.07 0-2.86zM5.41 20L4 18.59l7.72-7.72 1.47 1.35L5.41 20z\"/>\n",
              "  </svg>\n",
              "      </button>\n",
              "      \n",
              "  <style>\n",
              "    .colab-df-container {\n",
              "      display:flex;\n",
              "      flex-wrap:wrap;\n",
              "      gap: 12px;\n",
              "    }\n",
              "\n",
              "    .colab-df-convert {\n",
              "      background-color: #E8F0FE;\n",
              "      border: none;\n",
              "      border-radius: 50%;\n",
              "      cursor: pointer;\n",
              "      display: none;\n",
              "      fill: #1967D2;\n",
              "      height: 32px;\n",
              "      padding: 0 0 0 0;\n",
              "      width: 32px;\n",
              "    }\n",
              "\n",
              "    .colab-df-convert:hover {\n",
              "      background-color: #E2EBFA;\n",
              "      box-shadow: 0px 1px 2px rgba(60, 64, 67, 0.3), 0px 1px 3px 1px rgba(60, 64, 67, 0.15);\n",
              "      fill: #174EA6;\n",
              "    }\n",
              "\n",
              "    [theme=dark] .colab-df-convert {\n",
              "      background-color: #3B4455;\n",
              "      fill: #D2E3FC;\n",
              "    }\n",
              "\n",
              "    [theme=dark] .colab-df-convert:hover {\n",
              "      background-color: #434B5C;\n",
              "      box-shadow: 0px 1px 3px 1px rgba(0, 0, 0, 0.15);\n",
              "      filter: drop-shadow(0px 1px 2px rgba(0, 0, 0, 0.3));\n",
              "      fill: #FFFFFF;\n",
              "    }\n",
              "  </style>\n",
              "\n",
              "      <script>\n",
              "        const buttonEl =\n",
              "          document.querySelector('#df-bef4b76f-8a0e-4471-bbd1-657e1ce9a127 button.colab-df-convert');\n",
              "        buttonEl.style.display =\n",
              "          google.colab.kernel.accessAllowed ? 'block' : 'none';\n",
              "\n",
              "        async function convertToInteractive(key) {\n",
              "          const element = document.querySelector('#df-bef4b76f-8a0e-4471-bbd1-657e1ce9a127');\n",
              "          const dataTable =\n",
              "            await google.colab.kernel.invokeFunction('convertToInteractive',\n",
              "                                                     [key], {});\n",
              "          if (!dataTable) return;\n",
              "\n",
              "          const docLinkHtml = 'Like what you see? Visit the ' +\n",
              "            '<a target=\"_blank\" href=https://colab.research.google.com/notebooks/data_table.ipynb>data table notebook</a>'\n",
              "            + ' to learn more about interactive tables.';\n",
              "          element.innerHTML = '';\n",
              "          dataTable['output_type'] = 'display_data';\n",
              "          await google.colab.output.renderOutput(dataTable, element);\n",
              "          const docLink = document.createElement('div');\n",
              "          docLink.innerHTML = docLinkHtml;\n",
              "          element.appendChild(docLink);\n",
              "        }\n",
              "      </script>\n",
              "    </div>\n",
              "  </div>\n",
              "  "
            ],
            "text/plain": [
              "     Date         Open\n",
              "0       1  14760.00000\n",
              "1       2  14650.00000\n",
              "2       3  15164.65039\n",
              "3       4  15910.00000\n",
              "4       5  15848.90039\n",
              "..    ...          ...\n",
              "244   245  17390.00000\n",
              "245   246  17364.94922\n",
              "246   247  17350.00000\n",
              "247   248  17630.00000\n",
              "248   249  17849.50000\n",
              "\n",
              "[249 rows x 2 columns]"
            ]
          },
          "metadata": {},
          "execution_count": 16
        }
      ],
      "source": [
        "df"
      ]
    },
    {
      "cell_type": "code",
      "execution_count": 17,
      "id": "c22e3d2d",
      "metadata": {
        "id": "c22e3d2d"
      },
      "outputs": [],
      "source": [
        "x=df.iloc[:, :-1].values\n",
        "y=df.iloc[:, -1].values"
      ]
    },
    {
      "cell_type": "code",
      "execution_count": 18,
      "id": "23c3c5cd",
      "metadata": {
        "id": "23c3c5cd"
      },
      "outputs": [],
      "source": [
        "from sklearn.svm import SVR"
      ]
    },
    {
      "cell_type": "code",
      "execution_count": 19,
      "id": "f457a6bb",
      "metadata": {
        "id": "f457a6bb"
      },
      "outputs": [],
      "source": [
        "regressor=SVR()"
      ]
    },
    {
      "cell_type": "code",
      "execution_count": 20,
      "id": "c4b2be93",
      "metadata": {
        "colab": {
          "base_uri": "https://localhost:8080/"
        },
        "id": "c4b2be93",
        "outputId": "b77bea85-893d-4ba0-9e43-429d6ee2d0d2"
      },
      "outputs": [
        {
          "output_type": "execute_result",
          "data": {
            "text/plain": [
              "SVR()"
            ]
          },
          "metadata": {},
          "execution_count": 20
        }
      ],
      "source": [
        "regressor.fit(x,y)\n",
        "SVR()"
      ]
    },
    {
      "cell_type": "code",
      "execution_count": 21,
      "id": "461bfd87",
      "metadata": {
        "id": "461bfd87"
      },
      "outputs": [],
      "source": [
        "y_pred=regressor.predict(x)"
      ]
    },
    {
      "cell_type": "code",
      "execution_count": 22,
      "id": "a5cdd025",
      "metadata": {
        "id": "a5cdd025",
        "outputId": "0a29d38f-6514-4606-82ab-900aa3bb70ef",
        "colab": {
          "base_uri": "https://localhost:8080/"
        }
      },
      "outputs": [
        {
          "output_type": "execute_result",
          "data": {
            "text/plain": [
              "array([15368.65822206, 15368.13817889, 15367.60950399, 15367.07242564,\n",
              "       15366.52718543, 15365.9740381 , 15365.41325131, 15364.84510538,\n",
              "       15364.26989305, 15363.68791917, 15363.09950035, 15362.50496467,\n",
              "       15361.90465128, 15361.29890999, 15360.68810089, 15360.07259386,\n",
              "       15359.45276817, 15358.82901199, 15358.20172184, 15357.57130216,\n",
              "       15356.93816472, 15356.30272811, 15355.66541716, 15355.02666241,\n",
              "       15354.38689952, 15353.74656867, 15353.10611397, 15352.46598292,\n",
              "       15351.82662574, 15351.18849482, 15350.55204408, 15349.91772844,\n",
              "       15349.28600314, 15348.65732322, 15348.03214291, 15347.41091507,\n",
              "       15346.7940906 , 15346.1821179 , 15345.57544238, 15344.97450584,\n",
              "       15344.37974605, 15343.79159621, 15343.2104845 , 15342.6368336 ,\n",
              "       15342.07106031, 15341.51357507, 15340.96478164, 15340.42507669,\n",
              "       15339.8948495 , 15339.3744816 , 15338.86434652, 15338.36480954,\n",
              "       15337.8762274 , 15337.39894816, 15336.93331097, 15336.47964595,\n",
              "       15336.03827406, 15335.60950698, 15335.19364706, 15334.79098728,\n",
              "       15334.40181122, 15334.02639309, 15333.66499773, 15333.31788067,\n",
              "       15332.98528826, 15332.6674577 , 15332.36461722, 15332.07698619,\n",
              "       15331.8047753 , 15331.54818673, 15331.30741435, 15331.08264393,\n",
              "       15330.87405334, 15330.68181284, 15330.50608525, 15330.34702626,\n",
              "       15330.20478466, 15330.07950262, 15329.97131593, 15329.88035429,\n",
              "       15329.80674158, 15329.75059608, 15329.71203079, 15329.69115364,\n",
              "       15329.68806777, 15329.70287171, 15329.73565967, 15329.78652172,\n",
              "       15329.85554399, 15329.94280887, 15330.04839515, 15330.17237818,\n",
              "       15330.31483001, 15330.47581949, 15330.65541234, 15330.85367125,\n",
              "       15331.07065588, 15331.30642289, 15331.56102596, 15331.8345157 ,\n",
              "       15332.12693964, 15332.43834209, 15332.7687641 , 15333.11824325,\n",
              "       15333.48681351, 15333.87450506, 15334.28134405, 15334.70735237,\n",
              "       15335.15254738, 15335.61694162, 15336.10054248, 15336.60335189,\n",
              "       15337.12536591, 15337.66657442, 15338.22696067, 15338.80650087,\n",
              "       15339.40516378, 15340.02291027, 15340.65969281, 15341.31545507,\n",
              "       15341.99013138, 15342.6836463 , 15343.39591408, 15344.12683819,\n",
              "       15344.87631084, 15345.64421246, 15346.43041121, 15347.23476251,\n",
              "       15348.05710855, 15348.89727783, 15349.75508469, 15350.63032888,\n",
              "       15351.52279513, 15352.43225272, 15353.35845512, 15354.30113962,\n",
              "       15355.26002696, 15356.23482105, 15357.22520863, 15358.2308591 ,\n",
              "       15359.25142418, 15360.28653781, 15361.33581594, 15362.39885643,\n",
              "       15363.47523895, 15364.56452495, 15365.66625761, 15366.77996194,\n",
              "       15367.9051448 , 15369.04129506, 15370.18788371, 15371.34436412,\n",
              "       15372.51017225, 15373.68472695, 15374.86743031, 15376.05766803,\n",
              "       15377.25480983, 15378.45820994, 15379.66720762, 15380.88112769,\n",
              "       15382.09928111, 15383.32096566, 15384.54546659, 15385.77205732,\n",
              "       15387.00000025, 15388.22854746, 15389.45694161, 15390.68441674,\n",
              "       15391.9101992 , 15393.13350854, 15394.35355846, 15395.56955776,\n",
              "       15396.78071139, 15397.98622138, 15399.18528794, 15400.37711049,\n",
              "       15401.5608887 , 15402.7358236 , 15403.90111865, 15405.05598082,\n",
              "       15406.19962173, 15407.3312587 , 15408.45011587, 15409.55542532,\n",
              "       15410.64642812, 15411.72237545, 15412.78252965, 15413.82616529,\n",
              "       15414.85257022, 15415.8610466 , 15416.8509119 , 15417.82149989,\n",
              "       15418.77216162, 15419.70226632, 15420.61120234, 15421.49837803,\n",
              "       15422.36322254, 15423.20518671, 15424.02374376, 15424.81839008,\n",
              "       15425.58864594, 15426.33405609, 15427.05419042, 15427.74864453,\n",
              "       15428.41704026, 15429.05902616, 15429.67427792, 15430.26249878,\n",
              "       15430.8234199 , 15431.35680057, 15431.86242856, 15432.34012023,\n",
              "       15432.78972074, 15433.21110411, 15433.60417331, 15433.96886021,\n",
              "       15434.30512558, 15434.61295899, 15434.89237864, 15435.14343119,\n",
              "       15435.36619153, 15435.56076248, 15435.72727449, 15435.86588525,\n",
              "       15435.97677928, 15436.0601675 , 15436.11628671, 15436.14539907,\n",
              "       15436.14779153, 15436.12377524, 15436.07368488, 15435.99787801,\n",
              "       15435.89673439, 15435.7706552 , 15435.6200623 , 15435.44539748,\n",
              "       15435.2471216 , 15435.02571379, 15434.78167059, 15434.5155051 ,\n",
              "       15434.22774607, 15433.91893699, 15433.58963524, 15433.2404111 ,\n",
              "       15432.87184686, 15432.48453586, 15432.07908158, 15431.65609663,\n",
              "       15431.21620191])"
            ]
          },
          "metadata": {},
          "execution_count": 22
        }
      ],
      "source": [
        "y_pred"
      ]
    },
    {
      "cell_type": "code",
      "execution_count": 26,
      "id": "80e600a0",
      "metadata": {
        "id": "80e600a0"
      },
      "outputs": [],
      "source": [
        "import matplotlib.pyplot as plt"
      ]
    },
    {
      "cell_type": "code",
      "execution_count": 27,
      "id": "56785d93",
      "metadata": {
        "id": "56785d93",
        "outputId": "612c906f-7d4d-486f-c6d9-a3ec67ea9df3",
        "colab": {
          "base_uri": "https://localhost:8080/",
          "height": 279
        }
      },
      "outputs": [
        {
          "output_type": "display_data",
          "data": {
            "image/png": "[encoded data removed]",
            "text/plain": [
              "<Figure size 432x288 with 1 Axes>"
            ]
          },
          "metadata": {
            "needs_background": "light"
          }
        }
      ],
      "source": [
        "plt.scatter(x, y, color = 'red')\n",
        "plt.plot(x, regressor.predict(x), color = 'blue')\n",
        "plt.xlabel('Package')\n",
        "plt.ylabel('Sales')\n",
        "plt.show()"
      ]
    },
    {
      "cell_type": "code",
      "execution_count": 25,
      "id": "2369659b",
      "metadata": {
        "id": "2369659b"
      },
      "outputs": [],
      "source": [
        "from sklearn.tree import DecisionTreeRegressor"
      ]
    },
    {
      "cell_type": "code",
      "execution_count": 28,
      "id": "98f06f51",
      "metadata": {
        "id": "98f06f51",
        "colab": {
          "base_uri": "https://localhost:8080/"
        },
        "outputId": "f03fe8d5-588a-4440-bb4b-4e99da2c3bb0"
      },
      "outputs": [
        {
          "output_type": "execute_result",
          "data": {
            "text/plain": [
              "DecisionTreeRegressor()"
            ]
          },
          "metadata": {},
          "execution_count": 28
        }
      ],
      "source": [
        "regressor=DecisionTreeRegressor()\n",
        "regressor.fit(x,y)"
      ]
    },
    {
      "cell_type": "code",
      "source": [
        "y_pred=regressor.predict(x)"
      ],
      "metadata": {
        "id": "GBWfKDr6hEuS"
      },
      "id": "GBWfKDr6hEuS",
      "execution_count": 29,
      "outputs": []
    },
    {
      "cell_type": "code",
      "source": [
        "import matplotlib.pyplot as plt"
      ],
      "metadata": {
        "id": "hmHNONGahOIa"
      },
      "id": "hmHNONGahOIa",
      "execution_count": 31,
      "outputs": []
    },
    {
      "cell_type": "code",
      "source": [
        "plt.scatter(x, y, color = 'red')\n",
        "plt.plot(x, regressor.predict(x), color = 'blue')\n",
        "plt.xlabel('Package')\n",
        "plt.ylabel('Sales')\n",
        "plt.show()"
      ],
      "metadata": {
        "colab": {
          "base_uri": "https://localhost:8080/",
          "height": 279
        },
        "id": "q1AXx3nehSF_",
        "outputId": "69f13699-ef3e-42f4-9b3b-6d33215123fc"
      },
      "id": "q1AXx3nehSF_",
      "execution_count": 32,
      "outputs": [
        {
          "output_type": "display_data",
          "data": {
            "image/png": "[encoded data removed]",
            "text/plain": [
              "<Figure size 432x288 with 1 Axes>"
            ]
          },
          "metadata": {
            "needs_background": "light"
          }
        }
      ]
    },
    {
      "cell_type": "code",
      "source": [
        ""
      ],
      "metadata": {
        "id": "IacNCRjvhrFb"
      },
      "id": "IacNCRjvhrFb",
      "execution_count": null,
      "outputs": []
    }
  ],
  "metadata": {
    "kernelspec": {
      "display_name": "Python 3",
      "language": "python",
      "name": "python3"
    },
    "language_info": {
      "codemirror_mode": {
        "name": "ipython",
        "version": 3
      },
      "file_extension": ".py",
      "mimetype": "text/x-python",
      "name": "python",
      "nbconvert_exporter": "python",
      "pygments_lexer": "ipython3",
      "version": "3.8.8"
    },
    "colab": {
      "name": "BOSCH Analysis.ipynb",
      "provenance": []
    }
  },
  "nbformat": 4,
  "nbformat_minor": 5
}