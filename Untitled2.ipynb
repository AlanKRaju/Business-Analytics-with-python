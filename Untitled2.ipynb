{
  "nbformat": 4,
  "nbformat_minor": 0,
  "metadata": {
    "colab": {
      "name": "Untitled2.ipynb",
      "provenance": [],
      "collapsed_sections": []
    },
    "kernelspec": {
      "name": "python3",
      "display_name": "Python 3"
    },
    "language_info": {
      "name": "python"
    }
  },
  "cells": [
    {
      "cell_type": "code",
      "metadata": {
        "colab": {
          "base_uri": "https://localhost:8080/"
        },
        "id": "SVtLIQoe1CDV",
        "outputId": "4dd56796-663b-4f21-9b57-0c9345292b9d"
      },
      "source": [
        "income=int(input(\"enter a number\"))\n",
        "if ((income<=2)or(income>=50)):\n",
        "  print(\"tax rate is 5%\")\n",
        "else:\n",
        "  print(\"tax is 10%\")"
      ],
      "execution_count": null,
      "outputs": [
        {
          "output_type": "stream",
          "name": "stdout",
          "text": [
            "enter a number40\n",
            "tax is 10%\n"
          ]
        }
      ]
    },
    {
      "cell_type": "code",
      "metadata": {
        "colab": {
          "base_uri": "https://localhost:8080/"
        },
        "id": "yrC-1_7s2fb0",
        "outputId": "5b28ba60-cedb-481a-db20-756dbb52c627"
      },
      "source": [
        "x=int(input(\"enter the base price\"))\n",
        "y=int(input(\"enter the slab value\"))\n",
        "if y==1:\n",
        "  GST=0\n",
        "if y==2:\n",
        "  GST=5\n",
        "if y==3:\n",
        "  GST=12\n",
        "if y==4:\n",
        "  GST=18\n",
        "if y==5:\n",
        "  GST=28   \n",
        "D=int(input(\"enter Road Development cess\"))\n",
        "T=int(input(\"enter Road Tax\"))\n",
        "E=int(input(\"enter Economic Sess\"))\n",
        "VAT=int(input(\"enter VAT\"))\n",
        "price=x+((GST+D+T+E+VAT)*x)/100\n",
        "print(price)"
      ],
      "execution_count": null,
      "outputs": [
        {
          "output_type": "stream",
          "name": "stdout",
          "text": [
            "enter the base price5\n",
            "enter the slag value2\n",
            "enter Road Development cess4\n",
            "enter Road Tax5\n",
            "enter Economic Sess2\n",
            "enter VAT4\n",
            "6.0\n"
          ]
        }
      ]
    },
    {
      "cell_type": "code",
      "metadata": {
        "id": "Qg_gWi4b5O12"
      },
      "source": [
        "x=int(input(\"enter Salary\"))\n",
        "if x<=250000\n",
        " tax=0\n",
        " "
      ],
      "execution_count": null,
      "outputs": []
    }
  ]
}