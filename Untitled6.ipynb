{
  "nbformat": 4,
  "nbformat_minor": 0,
  "metadata": {
    "colab": {
      "name": "Untitled6.ipynb",
      "provenance": []
    },
    "kernelspec": {
      "name": "python3",
      "display_name": "Python 3"
    },
    "language_info": {
      "name": "python"
    }
  },
  "cells": [
    {
      "cell_type": "code",
      "execution_count": null,
      "metadata": {
        "colab": {
          "base_uri": "https://localhost:8080/"
        },
        "id": "Cd5P3VeXHJmW",
        "outputId": "b3cbf55f-399f-49e8-9a39-c32e3f330bfc"
      },
      "outputs": [
        {
          "output_type": "stream",
          "name": "stdout",
          "text": [
            "1\n",
            "2\n",
            "3\n"
          ]
        }
      ],
      "source": [
        "i=1\n",
        "while i<10:\n",
        "  print(i)\n",
        "  if i==3:\n",
        "    break\n",
        "  i+=1     "
      ]
    },
    {
      "cell_type": "code",
      "source": [
        "i=0\n",
        "while i<10:\n",
        "  i+=1\n",
        "  if i==3:\n",
        "    continue\n",
        "  print(i)"
      ],
      "metadata": {
        "colab": {
          "base_uri": "https://localhost:8080/"
        },
        "id": "EFF8ordOH9Fo",
        "outputId": "e39cd39d-4cbc-4f14-da41-f883c487fcf4"
      },
      "execution_count": null,
      "outputs": [
        {
          "output_type": "stream",
          "name": "stdout",
          "text": [
            "1\n",
            "2\n",
            "4\n",
            "5\n",
            "6\n",
            "7\n",
            "8\n",
            "9\n",
            "10\n"
          ]
        }
      ]
    },
    {
      "cell_type": "code",
      "source": [
        "import pandas as x"
      ],
      "metadata": {
        "id": "g1X_1V3rLs83"
      },
      "execution_count": null,
      "outputs": []
    },
    {
      "cell_type": "code",
      "source": [
        "df=x.read_excel(\"Sample.xlsx\")"
      ],
      "metadata": {
        "id": "UoyrjgHDVMTy"
      },
      "execution_count": null,
      "outputs": []
    },
    {
      "cell_type": "code",
      "source": [
        "df"
      ],
      "metadata": {
        "colab": {
          "base_uri": "https://localhost:8080/",
          "height": 676
        },
        "id": "nBn9yOv5Vbi0",
        "outputId": "c4a5dba1-bcda-4adc-a8a7-2b155a2e19ee"
      },
      "execution_count": null,
      "outputs": [
        {
          "output_type": "execute_result",
          "data": {
            "text/html": [
              "<div>\n",
              "<style scoped>\n",
              "    .dataframe tbody tr th:only-of-type {\n",
              "        vertical-align: middle;\n",
              "    }\n",
              "\n",
              "    .dataframe tbody tr th {\n",
              "        vertical-align: top;\n",
              "    }\n",
              "\n",
              "    .dataframe thead th {\n",
              "        text-align: right;\n",
              "    }\n",
              "</style>\n",
              "<table border=\"1\" class=\"dataframe\">\n",
              "  <thead>\n",
              "    <tr style=\"text-align: right;\">\n",
              "      <th></th>\n",
              "      <th>Days</th>\n",
              "      <th>Apple</th>\n",
              "      <th>Banana</th>\n",
              "      <th>Rice</th>\n",
              "      <th>Biscuits</th>\n",
              "      <th>Chips</th>\n",
              "    </tr>\n",
              "  </thead>\n",
              "  <tbody>\n",
              "    <tr>\n",
              "      <th>0</th>\n",
              "      <td>Day 1</td>\n",
              "      <td>52</td>\n",
              "      <td>95</td>\n",
              "      <td>97</td>\n",
              "      <td>29</td>\n",
              "      <td>42</td>\n",
              "    </tr>\n",
              "    <tr>\n",
              "      <th>1</th>\n",
              "      <td>Day 2</td>\n",
              "      <td>53</td>\n",
              "      <td>30</td>\n",
              "      <td>22</td>\n",
              "      <td>75</td>\n",
              "      <td>10</td>\n",
              "    </tr>\n",
              "    <tr>\n",
              "      <th>2</th>\n",
              "      <td>Day 3</td>\n",
              "      <td>43</td>\n",
              "      <td>42</td>\n",
              "      <td>77</td>\n",
              "      <td>3</td>\n",
              "      <td>91</td>\n",
              "    </tr>\n",
              "    <tr>\n",
              "      <th>3</th>\n",
              "      <td>Day 4</td>\n",
              "      <td>56</td>\n",
              "      <td>32</td>\n",
              "      <td>17</td>\n",
              "      <td>73</td>\n",
              "      <td>66</td>\n",
              "    </tr>\n",
              "    <tr>\n",
              "      <th>4</th>\n",
              "      <td>Day 5</td>\n",
              "      <td>62</td>\n",
              "      <td>8</td>\n",
              "      <td>45</td>\n",
              "      <td>21</td>\n",
              "      <td>61</td>\n",
              "    </tr>\n",
              "    <tr>\n",
              "      <th>5</th>\n",
              "      <td>Day 6</td>\n",
              "      <td>38</td>\n",
              "      <td>34</td>\n",
              "      <td>65</td>\n",
              "      <td>89</td>\n",
              "      <td>37</td>\n",
              "    </tr>\n",
              "    <tr>\n",
              "      <th>6</th>\n",
              "      <td>Day 7</td>\n",
              "      <td>19</td>\n",
              "      <td>11</td>\n",
              "      <td>38</td>\n",
              "      <td>45</td>\n",
              "      <td>38</td>\n",
              "    </tr>\n",
              "    <tr>\n",
              "      <th>7</th>\n",
              "      <td>Day 8</td>\n",
              "      <td>26</td>\n",
              "      <td>29</td>\n",
              "      <td>16</td>\n",
              "      <td>77</td>\n",
              "      <td>43</td>\n",
              "    </tr>\n",
              "    <tr>\n",
              "      <th>8</th>\n",
              "      <td>Day 9</td>\n",
              "      <td>23</td>\n",
              "      <td>68</td>\n",
              "      <td>64</td>\n",
              "      <td>60</td>\n",
              "      <td>36</td>\n",
              "    </tr>\n",
              "    <tr>\n",
              "      <th>9</th>\n",
              "      <td>Day 10</td>\n",
              "      <td>74</td>\n",
              "      <td>86</td>\n",
              "      <td>41</td>\n",
              "      <td>41</td>\n",
              "      <td>73</td>\n",
              "    </tr>\n",
              "    <tr>\n",
              "      <th>10</th>\n",
              "      <td>Day 11</td>\n",
              "      <td>69</td>\n",
              "      <td>67</td>\n",
              "      <td>45</td>\n",
              "      <td>36</td>\n",
              "      <td>41</td>\n",
              "    </tr>\n",
              "    <tr>\n",
              "      <th>11</th>\n",
              "      <td>Day 12</td>\n",
              "      <td>34</td>\n",
              "      <td>12</td>\n",
              "      <td>21</td>\n",
              "      <td>97</td>\n",
              "      <td>92</td>\n",
              "    </tr>\n",
              "    <tr>\n",
              "      <th>12</th>\n",
              "      <td>Day 13</td>\n",
              "      <td>64</td>\n",
              "      <td>62</td>\n",
              "      <td>1</td>\n",
              "      <td>97</td>\n",
              "      <td>26</td>\n",
              "    </tr>\n",
              "    <tr>\n",
              "      <th>13</th>\n",
              "      <td>Day 14</td>\n",
              "      <td>64</td>\n",
              "      <td>1</td>\n",
              "      <td>42</td>\n",
              "      <td>77</td>\n",
              "      <td>84</td>\n",
              "    </tr>\n",
              "    <tr>\n",
              "      <th>14</th>\n",
              "      <td>Day 15</td>\n",
              "      <td>66</td>\n",
              "      <td>21</td>\n",
              "      <td>80</td>\n",
              "      <td>44</td>\n",
              "      <td>21</td>\n",
              "    </tr>\n",
              "    <tr>\n",
              "      <th>15</th>\n",
              "      <td>Day 16</td>\n",
              "      <td>57</td>\n",
              "      <td>14</td>\n",
              "      <td>40</td>\n",
              "      <td>11</td>\n",
              "      <td>36</td>\n",
              "    </tr>\n",
              "    <tr>\n",
              "      <th>16</th>\n",
              "      <td>Day 17</td>\n",
              "      <td>95</td>\n",
              "      <td>40</td>\n",
              "      <td>38</td>\n",
              "      <td>85</td>\n",
              "      <td>76</td>\n",
              "    </tr>\n",
              "    <tr>\n",
              "      <th>17</th>\n",
              "      <td>Day 18</td>\n",
              "      <td>63</td>\n",
              "      <td>29</td>\n",
              "      <td>28</td>\n",
              "      <td>38</td>\n",
              "      <td>29</td>\n",
              "    </tr>\n",
              "    <tr>\n",
              "      <th>18</th>\n",
              "      <td>Day 19</td>\n",
              "      <td>72</td>\n",
              "      <td>47</td>\n",
              "      <td>44</td>\n",
              "      <td>32</td>\n",
              "      <td>68</td>\n",
              "    </tr>\n",
              "    <tr>\n",
              "      <th>19</th>\n",
              "      <td>Day 20</td>\n",
              "      <td>76</td>\n",
              "      <td>51</td>\n",
              "      <td>59</td>\n",
              "      <td>93</td>\n",
              "      <td>32</td>\n",
              "    </tr>\n",
              "  </tbody>\n",
              "</table>\n",
              "</div>"
            ],
            "text/plain": [
              "      Days  Apple  Banana  Rice  Biscuits  Chips\n",
              "0    Day 1     52      95    97        29     42\n",
              "1    Day 2     53      30    22        75     10\n",
              "2    Day 3     43      42    77         3     91\n",
              "3    Day 4     56      32    17        73     66\n",
              "4    Day 5     62       8    45        21     61\n",
              "5    Day 6     38      34    65        89     37\n",
              "6    Day 7     19      11    38        45     38\n",
              "7    Day 8     26      29    16        77     43\n",
              "8    Day 9     23      68    64        60     36\n",
              "9   Day 10     74      86    41        41     73\n",
              "10  Day 11     69      67    45        36     41\n",
              "11  Day 12     34      12    21        97     92\n",
              "12  Day 13     64      62     1        97     26\n",
              "13  Day 14     64       1    42        77     84\n",
              "14  Day 15     66      21    80        44     21\n",
              "15  Day 16     57      14    40        11     36\n",
              "16  Day 17     95      40    38        85     76\n",
              "17  Day 18     63      29    28        38     29\n",
              "18  Day 19     72      47    44        32     68\n",
              "19  Day 20     76      51    59        93     32"
            ]
          },
          "metadata": {},
          "execution_count": 9
        }
      ]
    },
    {
      "cell_type": "code",
      "source": [
        "df.head()"
      ],
      "metadata": {
        "colab": {
          "base_uri": "https://localhost:8080/",
          "height": 206
        },
        "id": "K2R193ywVpDL",
        "outputId": "28807ff8-a781-4fb0-9713-1de36ec230f7"
      },
      "execution_count": null,
      "outputs": [
        {
          "output_type": "execute_result",
          "data": {
            "text/html": [
              "<div>\n",
              "<style scoped>\n",
              "    .dataframe tbody tr th:only-of-type {\n",
              "        vertical-align: middle;\n",
              "    }\n",
              "\n",
              "    .dataframe tbody tr th {\n",
              "        vertical-align: top;\n",
              "    }\n",
              "\n",
              "    .dataframe thead th {\n",
              "        text-align: right;\n",
              "    }\n",
              "</style>\n",
              "<table border=\"1\" class=\"dataframe\">\n",
              "  <thead>\n",
              "    <tr style=\"text-align: right;\">\n",
              "      <th></th>\n",
              "      <th>Days</th>\n",
              "      <th>Apple</th>\n",
              "      <th>Banana</th>\n",
              "      <th>Rice</th>\n",
              "      <th>Biscuits</th>\n",
              "      <th>Chips</th>\n",
              "    </tr>\n",
              "  </thead>\n",
              "  <tbody>\n",
              "    <tr>\n",
              "      <th>0</th>\n",
              "      <td>Day 1</td>\n",
              "      <td>52</td>\n",
              "      <td>95</td>\n",
              "      <td>97</td>\n",
              "      <td>29</td>\n",
              "      <td>42</td>\n",
              "    </tr>\n",
              "    <tr>\n",
              "      <th>1</th>\n",
              "      <td>Day 2</td>\n",
              "      <td>53</td>\n",
              "      <td>30</td>\n",
              "      <td>22</td>\n",
              "      <td>75</td>\n",
              "      <td>10</td>\n",
              "    </tr>\n",
              "    <tr>\n",
              "      <th>2</th>\n",
              "      <td>Day 3</td>\n",
              "      <td>43</td>\n",
              "      <td>42</td>\n",
              "      <td>77</td>\n",
              "      <td>3</td>\n",
              "      <td>91</td>\n",
              "    </tr>\n",
              "    <tr>\n",
              "      <th>3</th>\n",
              "      <td>Day 4</td>\n",
              "      <td>56</td>\n",
              "      <td>32</td>\n",
              "      <td>17</td>\n",
              "      <td>73</td>\n",
              "      <td>66</td>\n",
              "    </tr>\n",
              "    <tr>\n",
              "      <th>4</th>\n",
              "      <td>Day 5</td>\n",
              "      <td>62</td>\n",
              "      <td>8</td>\n",
              "      <td>45</td>\n",
              "      <td>21</td>\n",
              "      <td>61</td>\n",
              "    </tr>\n",
              "  </tbody>\n",
              "</table>\n",
              "</div>"
            ],
            "text/plain": [
              "    Days  Apple  Banana  Rice  Biscuits  Chips\n",
              "0  Day 1     52      95    97        29     42\n",
              "1  Day 2     53      30    22        75     10\n",
              "2  Day 3     43      42    77         3     91\n",
              "3  Day 4     56      32    17        73     66\n",
              "4  Day 5     62       8    45        21     61"
            ]
          },
          "metadata": {},
          "execution_count": 10
        }
      ]
    },
    {
      "cell_type": "code",
      "source": [
        "df.tail()"
      ],
      "metadata": {
        "colab": {
          "base_uri": "https://localhost:8080/",
          "height": 206
        },
        "id": "hXyne-QZWhGJ",
        "outputId": "efc03c99-5105-4e4f-dc1d-f5d61e27152b"
      },
      "execution_count": null,
      "outputs": [
        {
          "output_type": "execute_result",
          "data": {
            "text/html": [
              "<div>\n",
              "<style scoped>\n",
              "    .dataframe tbody tr th:only-of-type {\n",
              "        vertical-align: middle;\n",
              "    }\n",
              "\n",
              "    .dataframe tbody tr th {\n",
              "        vertical-align: top;\n",
              "    }\n",
              "\n",
              "    .dataframe thead th {\n",
              "        text-align: right;\n",
              "    }\n",
              "</style>\n",
              "<table border=\"1\" class=\"dataframe\">\n",
              "  <thead>\n",
              "    <tr style=\"text-align: right;\">\n",
              "      <th></th>\n",
              "      <th>Days</th>\n",
              "      <th>Apple</th>\n",
              "      <th>Banana</th>\n",
              "      <th>Rice</th>\n",
              "      <th>Biscuits</th>\n",
              "      <th>Chips</th>\n",
              "    </tr>\n",
              "  </thead>\n",
              "  <tbody>\n",
              "    <tr>\n",
              "      <th>15</th>\n",
              "      <td>Day 16</td>\n",
              "      <td>57</td>\n",
              "      <td>14</td>\n",
              "      <td>40</td>\n",
              "      <td>11</td>\n",
              "      <td>36</td>\n",
              "    </tr>\n",
              "    <tr>\n",
              "      <th>16</th>\n",
              "      <td>Day 17</td>\n",
              "      <td>95</td>\n",
              "      <td>40</td>\n",
              "      <td>38</td>\n",
              "      <td>85</td>\n",
              "      <td>76</td>\n",
              "    </tr>\n",
              "    <tr>\n",
              "      <th>17</th>\n",
              "      <td>Day 18</td>\n",
              "      <td>63</td>\n",
              "      <td>29</td>\n",
              "      <td>28</td>\n",
              "      <td>38</td>\n",
              "      <td>29</td>\n",
              "    </tr>\n",
              "    <tr>\n",
              "      <th>18</th>\n",
              "      <td>Day 19</td>\n",
              "      <td>72</td>\n",
              "      <td>47</td>\n",
              "      <td>44</td>\n",
              "      <td>32</td>\n",
              "      <td>68</td>\n",
              "    </tr>\n",
              "    <tr>\n",
              "      <th>19</th>\n",
              "      <td>Day 20</td>\n",
              "      <td>76</td>\n",
              "      <td>51</td>\n",
              "      <td>59</td>\n",
              "      <td>93</td>\n",
              "      <td>32</td>\n",
              "    </tr>\n",
              "  </tbody>\n",
              "</table>\n",
              "</div>"
            ],
            "text/plain": [
              "      Days  Apple  Banana  Rice  Biscuits  Chips\n",
              "15  Day 16     57      14    40        11     36\n",
              "16  Day 17     95      40    38        85     76\n",
              "17  Day 18     63      29    28        38     29\n",
              "18  Day 19     72      47    44        32     68\n",
              "19  Day 20     76      51    59        93     32"
            ]
          },
          "metadata": {},
          "execution_count": 14
        }
      ]
    },
    {
      "cell_type": "code",
      "source": [
        "df.describe()"
      ],
      "metadata": {
        "colab": {
          "base_uri": "https://localhost:8080/",
          "height": 300
        },
        "id": "QPAnSLnnXCVS",
        "outputId": "c5c21beb-238b-4db7-dc67-abdcca73b8f6"
      },
      "execution_count": null,
      "outputs": [
        {
          "output_type": "execute_result",
          "data": {
            "text/html": [
              "<div>\n",
              "<style scoped>\n",
              "    .dataframe tbody tr th:only-of-type {\n",
              "        vertical-align: middle;\n",
              "    }\n",
              "\n",
              "    .dataframe tbody tr th {\n",
              "        vertical-align: top;\n",
              "    }\n",
              "\n",
              "    .dataframe thead th {\n",
              "        text-align: right;\n",
              "    }\n",
              "</style>\n",
              "<table border=\"1\" class=\"dataframe\">\n",
              "  <thead>\n",
              "    <tr style=\"text-align: right;\">\n",
              "      <th></th>\n",
              "      <th>Apple</th>\n",
              "      <th>Banana</th>\n",
              "      <th>Rice</th>\n",
              "      <th>Biscuits</th>\n",
              "      <th>Chips</th>\n",
              "    </tr>\n",
              "  </thead>\n",
              "  <tbody>\n",
              "    <tr>\n",
              "      <th>count</th>\n",
              "      <td>20.000000</td>\n",
              "      <td>20.000000</td>\n",
              "      <td>20.000000</td>\n",
              "      <td>20.000000</td>\n",
              "      <td>20.000000</td>\n",
              "    </tr>\n",
              "    <tr>\n",
              "      <th>mean</th>\n",
              "      <td>55.300000</td>\n",
              "      <td>38.950000</td>\n",
              "      <td>44.000000</td>\n",
              "      <td>56.150000</td>\n",
              "      <td>50.100000</td>\n",
              "    </tr>\n",
              "    <tr>\n",
              "      <th>std</th>\n",
              "      <td>19.647151</td>\n",
              "      <td>26.095926</td>\n",
              "      <td>24.054762</td>\n",
              "      <td>29.723772</td>\n",
              "      <td>24.265852</td>\n",
              "    </tr>\n",
              "    <tr>\n",
              "      <th>min</th>\n",
              "      <td>19.000000</td>\n",
              "      <td>1.000000</td>\n",
              "      <td>1.000000</td>\n",
              "      <td>3.000000</td>\n",
              "      <td>10.000000</td>\n",
              "    </tr>\n",
              "    <tr>\n",
              "      <th>25%</th>\n",
              "      <td>41.750000</td>\n",
              "      <td>19.250000</td>\n",
              "      <td>26.500000</td>\n",
              "      <td>35.000000</td>\n",
              "      <td>35.000000</td>\n",
              "    </tr>\n",
              "    <tr>\n",
              "      <th>50%</th>\n",
              "      <td>59.500000</td>\n",
              "      <td>33.000000</td>\n",
              "      <td>41.500000</td>\n",
              "      <td>52.500000</td>\n",
              "      <td>41.500000</td>\n",
              "    </tr>\n",
              "    <tr>\n",
              "      <th>75%</th>\n",
              "      <td>66.750000</td>\n",
              "      <td>53.750000</td>\n",
              "      <td>60.250000</td>\n",
              "      <td>79.000000</td>\n",
              "      <td>69.250000</td>\n",
              "    </tr>\n",
              "    <tr>\n",
              "      <th>max</th>\n",
              "      <td>95.000000</td>\n",
              "      <td>95.000000</td>\n",
              "      <td>97.000000</td>\n",
              "      <td>97.000000</td>\n",
              "      <td>92.000000</td>\n",
              "    </tr>\n",
              "  </tbody>\n",
              "</table>\n",
              "</div>"
            ],
            "text/plain": [
              "           Apple     Banana       Rice   Biscuits      Chips\n",
              "count  20.000000  20.000000  20.000000  20.000000  20.000000\n",
              "mean   55.300000  38.950000  44.000000  56.150000  50.100000\n",
              "std    19.647151  26.095926  24.054762  29.723772  24.265852\n",
              "min    19.000000   1.000000   1.000000   3.000000  10.000000\n",
              "25%    41.750000  19.250000  26.500000  35.000000  35.000000\n",
              "50%    59.500000  33.000000  41.500000  52.500000  41.500000\n",
              "75%    66.750000  53.750000  60.250000  79.000000  69.250000\n",
              "max    95.000000  95.000000  97.000000  97.000000  92.000000"
            ]
          },
          "metadata": {},
          "execution_count": 15
        }
      ]
    },
    {
      "cell_type": "code",
      "source": [
        "df.Apple"
      ],
      "metadata": {
        "colab": {
          "base_uri": "https://localhost:8080/"
        },
        "id": "S30LeoUDXNjF",
        "outputId": "38f9aaae-aec3-4aab-ec30-d55f65db3174"
      },
      "execution_count": null,
      "outputs": [
        {
          "output_type": "execute_result",
          "data": {
            "text/plain": [
              "0     52\n",
              "1     53\n",
              "2     43\n",
              "3     56\n",
              "4     62\n",
              "5     38\n",
              "6     19\n",
              "7     26\n",
              "8     23\n",
              "9     74\n",
              "10    69\n",
              "11    34\n",
              "12    64\n",
              "13    64\n",
              "14    66\n",
              "15    57\n",
              "16    95\n",
              "17    63\n",
              "18    72\n",
              "19    76\n",
              "Name: Apple, dtype: int64"
            ]
          },
          "metadata": {},
          "execution_count": 19
        }
      ]
    },
    {
      "cell_type": "code",
      "source": [
        "df.Banana"
      ],
      "metadata": {
        "colab": {
          "base_uri": "https://localhost:8080/"
        },
        "id": "Ngba2xEbXl5t",
        "outputId": "5253a094-5aa5-492d-bab9-4686020c0046"
      },
      "execution_count": null,
      "outputs": [
        {
          "output_type": "execute_result",
          "data": {
            "text/plain": [
              "0     95\n",
              "1     30\n",
              "2     42\n",
              "3     32\n",
              "4      8\n",
              "5     34\n",
              "6     11\n",
              "7     29\n",
              "8     68\n",
              "9     86\n",
              "10    67\n",
              "11    12\n",
              "12    62\n",
              "13     1\n",
              "14    21\n",
              "15    14\n",
              "16    40\n",
              "17    29\n",
              "18    47\n",
              "19    51\n",
              "Name: Banana, dtype: int64"
            ]
          },
          "metadata": {},
          "execution_count": 20
        }
      ]
    },
    {
      "cell_type": "code",
      "source": [
        "df.Rice"
      ],
      "metadata": {
        "colab": {
          "base_uri": "https://localhost:8080/"
        },
        "id": "VJr0W9okX2ZP",
        "outputId": "ce0cc64b-a757-445d-cbc9-5a742954c069"
      },
      "execution_count": null,
      "outputs": [
        {
          "output_type": "execute_result",
          "data": {
            "text/plain": [
              "0     97\n",
              "1     22\n",
              "2     77\n",
              "3     17\n",
              "4     45\n",
              "5     65\n",
              "6     38\n",
              "7     16\n",
              "8     64\n",
              "9     41\n",
              "10    45\n",
              "11    21\n",
              "12     1\n",
              "13    42\n",
              "14    80\n",
              "15    40\n",
              "16    38\n",
              "17    28\n",
              "18    44\n",
              "19    59\n",
              "Name: Rice, dtype: int64"
            ]
          },
          "metadata": {},
          "execution_count": 21
        }
      ]
    },
    {
      "cell_type": "code",
      "source": [
        "df.Biscuits"
      ],
      "metadata": {
        "colab": {
          "base_uri": "https://localhost:8080/"
        },
        "id": "nq62x4IFX5iq",
        "outputId": "4e690bc7-20f2-4baf-e146-ee0ccd5af062"
      },
      "execution_count": null,
      "outputs": [
        {
          "output_type": "execute_result",
          "data": {
            "text/plain": [
              "0     29\n",
              "1     75\n",
              "2      3\n",
              "3     73\n",
              "4     21\n",
              "5     89\n",
              "6     45\n",
              "7     77\n",
              "8     60\n",
              "9     41\n",
              "10    36\n",
              "11    97\n",
              "12    97\n",
              "13    77\n",
              "14    44\n",
              "15    11\n",
              "16    85\n",
              "17    38\n",
              "18    32\n",
              "19    93\n",
              "Name: Biscuits, dtype: int64"
            ]
          },
          "metadata": {},
          "execution_count": 22
        }
      ]
    },
    {
      "cell_type": "code",
      "source": [
        "df.Chips"
      ],
      "metadata": {
        "colab": {
          "base_uri": "https://localhost:8080/"
        },
        "id": "0gztUvv-X90H",
        "outputId": "4a67f448-db7b-41a8-8476-79d01fab2914"
      },
      "execution_count": null,
      "outputs": [
        {
          "output_type": "execute_result",
          "data": {
            "text/plain": [
              "0     42\n",
              "1     10\n",
              "2     91\n",
              "3     66\n",
              "4     61\n",
              "5     37\n",
              "6     38\n",
              "7     43\n",
              "8     36\n",
              "9     73\n",
              "10    41\n",
              "11    92\n",
              "12    26\n",
              "13    84\n",
              "14    21\n",
              "15    36\n",
              "16    76\n",
              "17    29\n",
              "18    68\n",
              "19    32\n",
              "Name: Chips, dtype: int64"
            ]
          },
          "metadata": {},
          "execution_count": 23
        }
      ]
    },
    {
      "cell_type": "code",
      "source": [
        "df[\"Apple\"]"
      ],
      "metadata": {
        "colab": {
          "base_uri": "https://localhost:8080/"
        },
        "id": "u7SPgHmsYApl",
        "outputId": "2f910359-3b44-4550-b6db-2aef2dabd531"
      },
      "execution_count": null,
      "outputs": [
        {
          "output_type": "execute_result",
          "data": {
            "text/plain": [
              "0     52\n",
              "1     53\n",
              "2     43\n",
              "3     56\n",
              "4     62\n",
              "5     38\n",
              "6     19\n",
              "7     26\n",
              "8     23\n",
              "9     74\n",
              "10    69\n",
              "11    34\n",
              "12    64\n",
              "13    64\n",
              "14    66\n",
              "15    57\n",
              "16    95\n",
              "17    63\n",
              "18    72\n",
              "19    76\n",
              "Name: Apple, dtype: int64"
            ]
          },
          "metadata": {},
          "execution_count": 24
        }
      ]
    },
    {
      "cell_type": "code",
      "source": [
        "df.loc[0]"
      ],
      "metadata": {
        "colab": {
          "base_uri": "https://localhost:8080/"
        },
        "id": "qmrY9k78ZXQq",
        "outputId": "64d0bba0-7a50-4d19-93e9-fccf4b3c5faa"
      },
      "execution_count": null,
      "outputs": [
        {
          "output_type": "execute_result",
          "data": {
            "text/plain": [
              "Days        Day 1\n",
              "Apple          52\n",
              "Banana         95\n",
              "Rice           97\n",
              "Biscuits       29\n",
              "Chips          42\n",
              "Name: 0, dtype: object"
            ]
          },
          "metadata": {},
          "execution_count": 25
        }
      ]
    },
    {
      "cell_type": "code",
      "source": [
        "df.loc[3]"
      ],
      "metadata": {
        "colab": {
          "base_uri": "https://localhost:8080/"
        },
        "id": "C3RhnErUZqoE",
        "outputId": "0d92d69c-d9e1-4d73-c35c-e24f13794ab7"
      },
      "execution_count": null,
      "outputs": [
        {
          "output_type": "execute_result",
          "data": {
            "text/plain": [
              "Days        Day 4\n",
              "Apple          56\n",
              "Banana         32\n",
              "Rice           17\n",
              "Biscuits       73\n",
              "Chips          66\n",
              "Name: 3, dtype: object"
            ]
          },
          "metadata": {},
          "execution_count": 26
        }
      ]
    },
    {
      "cell_type": "code",
      "source": [
        "df.loc[0:5]"
      ],
      "metadata": {
        "colab": {
          "base_uri": "https://localhost:8080/",
          "height": 238
        },
        "id": "24uY-lrqaGnu",
        "outputId": "670ea29a-35ff-4cf8-c1ba-4e7b301567de"
      },
      "execution_count": null,
      "outputs": [
        {
          "output_type": "execute_result",
          "data": {
            "text/html": [
              "<div>\n",
              "<style scoped>\n",
              "    .dataframe tbody tr th:only-of-type {\n",
              "        vertical-align: middle;\n",
              "    }\n",
              "\n",
              "    .dataframe tbody tr th {\n",
              "        vertical-align: top;\n",
              "    }\n",
              "\n",
              "    .dataframe thead th {\n",
              "        text-align: right;\n",
              "    }\n",
              "</style>\n",
              "<table border=\"1\" class=\"dataframe\">\n",
              "  <thead>\n",
              "    <tr style=\"text-align: right;\">\n",
              "      <th></th>\n",
              "      <th>Days</th>\n",
              "      <th>Apple</th>\n",
              "      <th>Banana</th>\n",
              "      <th>Rice</th>\n",
              "      <th>Biscuits</th>\n",
              "      <th>Chips</th>\n",
              "    </tr>\n",
              "  </thead>\n",
              "  <tbody>\n",
              "    <tr>\n",
              "      <th>0</th>\n",
              "      <td>Day 1</td>\n",
              "      <td>52</td>\n",
              "      <td>95</td>\n",
              "      <td>97</td>\n",
              "      <td>29</td>\n",
              "      <td>42</td>\n",
              "    </tr>\n",
              "    <tr>\n",
              "      <th>1</th>\n",
              "      <td>Day 2</td>\n",
              "      <td>53</td>\n",
              "      <td>30</td>\n",
              "      <td>22</td>\n",
              "      <td>75</td>\n",
              "      <td>10</td>\n",
              "    </tr>\n",
              "    <tr>\n",
              "      <th>2</th>\n",
              "      <td>Day 3</td>\n",
              "      <td>43</td>\n",
              "      <td>42</td>\n",
              "      <td>77</td>\n",
              "      <td>3</td>\n",
              "      <td>91</td>\n",
              "    </tr>\n",
              "    <tr>\n",
              "      <th>3</th>\n",
              "      <td>Day 4</td>\n",
              "      <td>56</td>\n",
              "      <td>32</td>\n",
              "      <td>17</td>\n",
              "      <td>73</td>\n",
              "      <td>66</td>\n",
              "    </tr>\n",
              "    <tr>\n",
              "      <th>4</th>\n",
              "      <td>Day 5</td>\n",
              "      <td>62</td>\n",
              "      <td>8</td>\n",
              "      <td>45</td>\n",
              "      <td>21</td>\n",
              "      <td>61</td>\n",
              "    </tr>\n",
              "    <tr>\n",
              "      <th>5</th>\n",
              "      <td>Day 6</td>\n",
              "      <td>38</td>\n",
              "      <td>34</td>\n",
              "      <td>65</td>\n",
              "      <td>89</td>\n",
              "      <td>37</td>\n",
              "    </tr>\n",
              "  </tbody>\n",
              "</table>\n",
              "</div>"
            ],
            "text/plain": [
              "    Days  Apple  Banana  Rice  Biscuits  Chips\n",
              "0  Day 1     52      95    97        29     42\n",
              "1  Day 2     53      30    22        75     10\n",
              "2  Day 3     43      42    77         3     91\n",
              "3  Day 4     56      32    17        73     66\n",
              "4  Day 5     62       8    45        21     61\n",
              "5  Day 6     38      34    65        89     37"
            ]
          },
          "metadata": {},
          "execution_count": 27
        }
      ]
    },
    {
      "cell_type": "code",
      "source": [
        "df.loc[19]"
      ],
      "metadata": {
        "colab": {
          "base_uri": "https://localhost:8080/"
        },
        "id": "pl36_-qvaXCu",
        "outputId": "121197a3-a7ae-402b-c354-b2d104c099c5"
      },
      "execution_count": null,
      "outputs": [
        {
          "output_type": "execute_result",
          "data": {
            "text/plain": [
              "Days        Day 20\n",
              "Apple           76\n",
              "Banana          51\n",
              "Rice            59\n",
              "Biscuits        93\n",
              "Chips           32\n",
              "Name: 19, dtype: object"
            ]
          },
          "metadata": {},
          "execution_count": 29
        }
      ]
    },
    {
      "cell_type": "code",
      "source": [
        "df.loc[[1,2,3]]"
      ],
      "metadata": {
        "colab": {
          "base_uri": "https://localhost:8080/",
          "height": 143
        },
        "id": "sI-B8rasabjC",
        "outputId": "9c3fd842-e5f1-4718-eb7d-d37c60e66b41"
      },
      "execution_count": null,
      "outputs": [
        {
          "output_type": "execute_result",
          "data": {
            "text/html": [
              "<div>\n",
              "<style scoped>\n",
              "    .dataframe tbody tr th:only-of-type {\n",
              "        vertical-align: middle;\n",
              "    }\n",
              "\n",
              "    .dataframe tbody tr th {\n",
              "        vertical-align: top;\n",
              "    }\n",
              "\n",
              "    .dataframe thead th {\n",
              "        text-align: right;\n",
              "    }\n",
              "</style>\n",
              "<table border=\"1\" class=\"dataframe\">\n",
              "  <thead>\n",
              "    <tr style=\"text-align: right;\">\n",
              "      <th></th>\n",
              "      <th>Days</th>\n",
              "      <th>Apple</th>\n",
              "      <th>Banana</th>\n",
              "      <th>Rice</th>\n",
              "      <th>Biscuits</th>\n",
              "      <th>Chips</th>\n",
              "    </tr>\n",
              "  </thead>\n",
              "  <tbody>\n",
              "    <tr>\n",
              "      <th>1</th>\n",
              "      <td>Day 2</td>\n",
              "      <td>53</td>\n",
              "      <td>30</td>\n",
              "      <td>22</td>\n",
              "      <td>75</td>\n",
              "      <td>10</td>\n",
              "    </tr>\n",
              "    <tr>\n",
              "      <th>2</th>\n",
              "      <td>Day 3</td>\n",
              "      <td>43</td>\n",
              "      <td>42</td>\n",
              "      <td>77</td>\n",
              "      <td>3</td>\n",
              "      <td>91</td>\n",
              "    </tr>\n",
              "    <tr>\n",
              "      <th>3</th>\n",
              "      <td>Day 4</td>\n",
              "      <td>56</td>\n",
              "      <td>32</td>\n",
              "      <td>17</td>\n",
              "      <td>73</td>\n",
              "      <td>66</td>\n",
              "    </tr>\n",
              "  </tbody>\n",
              "</table>\n",
              "</div>"
            ],
            "text/plain": [
              "    Days  Apple  Banana  Rice  Biscuits  Chips\n",
              "1  Day 2     53      30    22        75     10\n",
              "2  Day 3     43      42    77         3     91\n",
              "3  Day 4     56      32    17        73     66"
            ]
          },
          "metadata": {},
          "execution_count": 31
        }
      ]
    },
    {
      "cell_type": "code",
      "source": [
        "df.sum()"
      ],
      "metadata": {
        "colab": {
          "base_uri": "https://localhost:8080/"
        },
        "id": "IdYWabvYa-Wn",
        "outputId": "1ad98343-a3e9-45d3-d9dd-3543cc376c27"
      },
      "execution_count": null,
      "outputs": [
        {
          "output_type": "execute_result",
          "data": {
            "text/plain": [
              "Days        Day 1Day 2Day 3Day 4Day 5Day 6Day 7Day 8Day 9D...\n",
              "Apple                                                    1106\n",
              "Banana                                                    779\n",
              "Rice                                                      880\n",
              "Biscuits                                                 1123\n",
              "Chips                                                    1002\n",
              "dtype: object"
            ]
          },
          "metadata": {},
          "execution_count": 32
        }
      ]
    },
    {
      "cell_type": "code",
      "source": [
        ""
      ],
      "metadata": {
        "id": "REhDRre1bGnb"
      },
      "execution_count": null,
      "outputs": []
    }
  ]
}