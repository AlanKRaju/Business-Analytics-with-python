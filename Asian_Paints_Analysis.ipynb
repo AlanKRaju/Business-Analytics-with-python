{
  "cells": [
    {
      "cell_type": "code",
      "execution_count": 57,
      "id": "7e0d871f",
      "metadata": {
        "id": "7e0d871f"
      },
      "outputs": [],
      "source": [
        "import pandas as pd"
      ]
    },
    {
      "cell_type": "code",
      "execution_count": 58,
      "id": "476d53ff",
      "metadata": {
        "id": "476d53ff"
      },
      "outputs": [],
      "source": [
        "df=pd.read_csv(\"ASIANPAINT.NS.csv\")"
      ]
    },
    {
      "cell_type": "code",
      "execution_count": 59,
      "id": "f2b4a031",
      "metadata": {
        "colab": {
          "base_uri": "https://localhost:8080/",
          "height": 423
        },
        "id": "f2b4a031",
        "outputId": "61886100-ecd2-471c-d5a2-68ec6d9f5e84"
      },
      "outputs": [
        {
          "output_type": "execute_result",
          "data": {
            "text/html": [
              "\n",
              "  <div id=\"df-e8dc7629-8033-4576-9619-be0750f94415\">\n",
              "    <div class=\"colab-df-container\">\n",
              "      <div>\n",
              "<style scoped>\n",
              "    .dataframe tbody tr th:only-of-type {\n",
              "        vertical-align: middle;\n",
              "    }\n",
              "\n",
              "    .dataframe tbody tr th {\n",
              "        vertical-align: top;\n",
              "    }\n",
              "\n",
              "    .dataframe thead th {\n",
              "        text-align: right;\n",
              "    }\n",
              "</style>\n",
              "<table border=\"1\" class=\"dataframe\">\n",
              "  <thead>\n",
              "    <tr style=\"text-align: right;\">\n",
              "      <th></th>\n",
              "      <th>Date</th>\n",
              "      <th>Open</th>\n",
              "    </tr>\n",
              "  </thead>\n",
              "  <tbody>\n",
              "    <tr>\n",
              "      <th>0</th>\n",
              "      <td>1</td>\n",
              "      <td>2592.000000</td>\n",
              "    </tr>\n",
              "    <tr>\n",
              "      <th>1</th>\n",
              "      <td>2</td>\n",
              "      <td>2615.000000</td>\n",
              "    </tr>\n",
              "    <tr>\n",
              "      <th>2</th>\n",
              "      <td>3</td>\n",
              "      <td>2654.000000</td>\n",
              "    </tr>\n",
              "    <tr>\n",
              "      <th>3</th>\n",
              "      <td>4</td>\n",
              "      <td>2726.949951</td>\n",
              "    </tr>\n",
              "    <tr>\n",
              "      <th>4</th>\n",
              "      <td>5</td>\n",
              "      <td>2750.000000</td>\n",
              "    </tr>\n",
              "    <tr>\n",
              "      <th>...</th>\n",
              "      <td>...</td>\n",
              "      <td>...</td>\n",
              "    </tr>\n",
              "    <tr>\n",
              "      <th>244</th>\n",
              "      <td>245</td>\n",
              "      <td>3556.899902</td>\n",
              "    </tr>\n",
              "    <tr>\n",
              "      <th>245</th>\n",
              "      <td>246</td>\n",
              "      <td>3560.000000</td>\n",
              "    </tr>\n",
              "    <tr>\n",
              "      <th>246</th>\n",
              "      <td>247</td>\n",
              "      <td>3462.000000</td>\n",
              "    </tr>\n",
              "    <tr>\n",
              "      <th>247</th>\n",
              "      <td>248</td>\n",
              "      <td>3364.399902</td>\n",
              "    </tr>\n",
              "    <tr>\n",
              "      <th>248</th>\n",
              "      <td>249</td>\n",
              "      <td>3379.050049</td>\n",
              "    </tr>\n",
              "  </tbody>\n",
              "</table>\n",
              "<p>249 rows × 2 columns</p>\n",
              "</div>\n",
              "      <button class=\"colab-df-convert\" onclick=\"convertToInteractive('df-e8dc7629-8033-4576-9619-be0750f94415')\"\n",
              "              title=\"Convert this dataframe to an interactive table.\"\n",
              "              style=\"display:none;\">\n",
              "        \n",
              "  <svg xmlns=\"http://www.w3.org/2000/svg\" height=\"24px\"viewBox=\"0 0 24 24\"\n",
              "       width=\"24px\">\n",
              "    <path d=\"M0 0h24v24H0V0z\" fill=\"none\"/>\n",
              "    <path d=\"M18.56 5.44l.94 2.06.94-2.06 2.06-.94-2.06-.94-.94-2.06-.94 2.06-2.06.94zm-11 1L8.5 8.5l.94-2.06 2.06-.94-2.06-.94L8.5 2.5l-.94 2.06-2.06.94zm10 10l.94 2.06.94-2.06 2.06-.94-2.06-.94-.94-2.06-.94 2.06-2.06.94z\"/><path d=\"M17.41 7.96l-1.37-1.37c-.4-.4-.92-.59-1.43-.59-.52 0-1.04.2-1.43.59L10.3 9.45l-7.72 7.72c-.78.78-.78 2.05 0 2.83L4 21.41c.39.39.9.59 1.41.59.51 0 1.02-.2 1.41-.59l7.78-7.78 2.81-2.81c.8-.78.8-2.07 0-2.86zM5.41 20L4 18.59l7.72-7.72 1.47 1.35L5.41 20z\"/>\n",
              "  </svg>\n",
              "      </button>\n",
              "      \n",
              "  <style>\n",
              "    .colab-df-container {\n",
              "      display:flex;\n",
              "      flex-wrap:wrap;\n",
              "      gap: 12px;\n",
              "    }\n",
              "\n",
              "    .colab-df-convert {\n",
              "      background-color: #E8F0FE;\n",
              "      border: none;\n",
              "      border-radius: 50%;\n",
              "      cursor: pointer;\n",
              "      display: none;\n",
              "      fill: #1967D2;\n",
              "      height: 32px;\n",
              "      padding: 0 0 0 0;\n",
              "      width: 32px;\n",
              "    }\n",
              "\n",
              "    .colab-df-convert:hover {\n",
              "      background-color: #E2EBFA;\n",
              "      box-shadow: 0px 1px 2px rgba(60, 64, 67, 0.3), 0px 1px 3px 1px rgba(60, 64, 67, 0.15);\n",
              "      fill: #174EA6;\n",
              "    }\n",
              "\n",
              "    [theme=dark] .colab-df-convert {\n",
              "      background-color: #3B4455;\n",
              "      fill: #D2E3FC;\n",
              "    }\n",
              "\n",
              "    [theme=dark] .colab-df-convert:hover {\n",
              "      background-color: #434B5C;\n",
              "      box-shadow: 0px 1px 3px 1px rgba(0, 0, 0, 0.15);\n",
              "      filter: drop-shadow(0px 1px 2px rgba(0, 0, 0, 0.3));\n",
              "      fill: #FFFFFF;\n",
              "    }\n",
              "  </style>\n",
              "\n",
              "      <script>\n",
              "        const buttonEl =\n",
              "          document.querySelector('#df-e8dc7629-8033-4576-9619-be0750f94415 button.colab-df-convert');\n",
              "        buttonEl.style.display =\n",
              "          google.colab.kernel.accessAllowed ? 'block' : 'none';\n",
              "\n",
              "        async function convertToInteractive(key) {\n",
              "          const element = document.querySelector('#df-e8dc7629-8033-4576-9619-be0750f94415');\n",
              "          const dataTable =\n",
              "            await google.colab.kernel.invokeFunction('convertToInteractive',\n",
              "                                                     [key], {});\n",
              "          if (!dataTable) return;\n",
              "\n",
              "          const docLinkHtml = 'Like what you see? Visit the ' +\n",
              "            '<a target=\"_blank\" href=https://colab.research.google.com/notebooks/data_table.ipynb>data table notebook</a>'\n",
              "            + ' to learn more about interactive tables.';\n",
              "          element.innerHTML = '';\n",
              "          dataTable['output_type'] = 'display_data';\n",
              "          await google.colab.output.renderOutput(dataTable, element);\n",
              "          const docLink = document.createElement('div');\n",
              "          docLink.innerHTML = docLinkHtml;\n",
              "          element.appendChild(docLink);\n",
              "        }\n",
              "      </script>\n",
              "    </div>\n",
              "  </div>\n",
              "  "
            ],
            "text/plain": [
              "     Date         Open\n",
              "0       1  2592.000000\n",
              "1       2  2615.000000\n",
              "2       3  2654.000000\n",
              "3       4  2726.949951\n",
              "4       5  2750.000000\n",
              "..    ...          ...\n",
              "244   245  3556.899902\n",
              "245   246  3560.000000\n",
              "246   247  3462.000000\n",
              "247   248  3364.399902\n",
              "248   249  3379.050049\n",
              "\n",
              "[249 rows x 2 columns]"
            ]
          },
          "metadata": {},
          "execution_count": 59
        }
      ],
      "source": [
        "df"
      ]
    },
    {
      "cell_type": "code",
      "execution_count": 60,
      "id": "c22e3d2d",
      "metadata": {
        "id": "c22e3d2d"
      },
      "outputs": [],
      "source": [
        "x=df.iloc[:, :-1].values\n",
        "y=df.iloc[:, -1].values"
      ]
    },
    {
      "cell_type": "code",
      "execution_count": 61,
      "id": "23c3c5cd",
      "metadata": {
        "id": "23c3c5cd"
      },
      "outputs": [],
      "source": [
        "from sklearn.svm import SVR"
      ]
    },
    {
      "cell_type": "code",
      "execution_count": 62,
      "id": "f457a6bb",
      "metadata": {
        "id": "f457a6bb"
      },
      "outputs": [],
      "source": [
        "regressor=SVR()"
      ]
    },
    {
      "cell_type": "code",
      "execution_count": 63,
      "id": "c4b2be93",
      "metadata": {
        "colab": {
          "base_uri": "https://localhost:8080/"
        },
        "id": "c4b2be93",
        "outputId": "64513b0e-c250-4a67-8184-868211c3ae5f"
      },
      "outputs": [
        {
          "output_type": "execute_result",
          "data": {
            "text/plain": [
              "SVR()"
            ]
          },
          "metadata": {},
          "execution_count": 63
        }
      ],
      "source": [
        "regressor.fit(x,y)\n",
        "SVR()"
      ]
    },
    {
      "cell_type": "code",
      "execution_count": 64,
      "id": "461bfd87",
      "metadata": {
        "id": "461bfd87"
      },
      "outputs": [],
      "source": [
        "y_pred=regressor.predict(x)"
      ]
    },
    {
      "cell_type": "code",
      "execution_count": 65,
      "id": "a5cdd025",
      "metadata": {
        "id": "a5cdd025",
        "outputId": "2c808b60-6fdb-4851-8e40-943491b2850c",
        "colab": {
          "base_uri": "https://localhost:8080/"
        }
      },
      "outputs": [
        {
          "output_type": "execute_result",
          "data": {
            "text/plain": [
              "array([2944.49858638, 2943.74711749, 2943.00532449, 2942.27382483,\n",
              "       2941.55323608, 2940.84417521, 2940.14725795, 2939.46309816,\n",
              "       2938.79230706, 2938.13549267, 2937.49325903, 2936.86620557,\n",
              "       2936.25492645, 2935.66000982, 2935.08203723, 2934.52158289,\n",
              "       2933.97921305, 2933.45548533, 2932.95094805, 2932.46613963,\n",
              "       2932.00158795, 2931.55780967, 2931.13530971, 2930.73458059,\n",
              "       2930.35610188, 2930.00033958, 2929.66774566, 2929.35875741,\n",
              "       2929.07379701, 2928.81327099, 2928.57756973, 2928.36706705,\n",
              "       2928.18211969, 2928.02306696, 2927.89023032, 2927.78391297,\n",
              "       2927.70439952, 2927.65195569, 2927.62682792, 2927.6292432 ,\n",
              "       2927.6594087 , 2927.71751161, 2927.80371894, 2927.91817727,\n",
              "       2928.06101268, 2928.23233058, 2928.4322156 , 2928.66073155,\n",
              "       2928.91792135, 2929.20380701, 2929.51838967, 2929.86164957,\n",
              "       2930.23354617, 2930.63401823, 2931.06298387, 2931.52034077,\n",
              "       2932.0059663 , 2932.51971771, 2933.06143237, 2933.63092795,\n",
              "       2934.22800275, 2934.85243591, 2935.50398778, 2936.1824002 ,\n",
              "       2936.88739687, 2937.6186837 , 2938.37594922, 2939.15886495,\n",
              "       2939.96708585, 2940.80025075, 2941.65798279, 2942.53988991,\n",
              "       2943.4455653 , 2944.37458794, 2945.32652305, 2946.30092267,\n",
              "       2947.29732612, 2948.31526059, 2949.35424164, 2950.4137738 ,\n",
              "       2951.49335105, 2952.59245745, 2953.71056765, 2954.84714749,\n",
              "       2956.00165454, 2957.17353869, 2958.36224266, 2959.56720264,\n",
              "       2960.78784877, 2962.02360576, 2963.2738934 , 2964.53812711,\n",
              "       2965.81571848, 2967.1060758 , 2968.40860459, 2969.72270811,\n",
              "       2971.04778781, 2972.38324392, 2973.72847584, 2975.08288264,\n",
              "       2976.44586354, 2977.8168183 , 2979.19514769, 2980.58025388,\n",
              "       2981.97154084, 2983.36841476, 2984.77028434, 2986.17656124,\n",
              "       2987.58666034, 2989.00000009, 2990.41600284, 2991.83409508,\n",
              "       2993.25370775, 2994.67427647, 2996.09524182, 2997.51604953,\n",
              "       2998.9361507 , 3000.355002  , 3001.77206583, 3003.18681051,\n",
              "       3004.59871043, 3006.00724615, 3007.41190456, 3008.81217896,\n",
              "       3010.20756917, 3011.59758162, 3012.9817294 , 3014.35953235,\n",
              "       3015.73051707, 3017.09421698, 3018.45017237, 3019.79793038,\n",
              "       3021.13704505, 3022.46707729, 3023.78759493, 3025.09817264,\n",
              "       3026.398392  , 3027.6878414 , 3028.96611609, 3030.23281811,\n",
              "       3031.48755628, 3032.72994617, 3033.95961007, 3035.17617695,\n",
              "       3036.37928244, 3037.56856878, 3038.74368482, 3039.90428596,\n",
              "       3041.05003415, 3042.18059785, 3043.29565202, 3044.39487809,\n",
              "       3045.47796397, 3046.54460403, 3047.59449907, 3048.62735638,\n",
              "       3049.64288971, 3050.64081927, 3051.62087179, 3052.58278052,\n",
              "       3053.52628527, 3054.45113245, 3055.3570751 , 3056.24387297,\n",
              "       3057.11129254, 3057.95910714, 3058.78709696, 3059.59504918,\n",
              "       3060.38275803, 3061.15002487, 3061.89665832, 3062.62247433,\n",
              "       3063.32729632, 3064.01095525, 3064.67328979, 3065.31414642,\n",
              "       3065.93337952, 3066.53085158, 3067.10643327, 3067.6600036 ,\n",
              "       3068.19145006, 3068.70066877, 3069.1875646 , 3069.65205134,\n",
              "       3070.09405183, 3070.51349813, 3070.91033161, 3071.28450315,\n",
              "       3071.63597327, 3071.96471223, 3072.27070021, 3072.55392744,\n",
              "       3072.81439431, 3073.05211148, 3073.26710005, 3073.45939162,\n",
              "       3073.62902844, 3073.77606349, 3073.90056054, 3074.00259431,\n",
              "       3074.08225047, 3074.13962575, 3074.174828  , 3074.18797619,\n",
              "       3074.17920052, 3074.14864237, 3074.09645438, 3074.02280039,\n",
              "       3073.9278555 , 3073.81180599, 3073.6748493 , 3073.517194  ,\n",
              "       3073.33905973, 3073.1406771 , 3072.92228762, 3072.68414358,\n",
              "       3072.42650798, 3072.14965435, 3071.85386661, 3071.53943896,\n",
              "       3071.20667565, 3070.85589082, 3070.4874083 , 3070.10156141,\n",
              "       3069.69869267, 3069.27915364, 3068.84330462, 3068.39151438,\n",
              "       3067.92415988, 3067.44162599, 3066.94430517, 3066.43259717,\n",
              "       3065.90690867, 3065.36765296, 3064.81524959, 3064.250124  ,\n",
              "       3063.67270713, 3063.0834351 , 3062.48274875, 3061.87109329,\n",
              "       3061.24891787, 3060.61667519, 3059.97482107, 3059.32381403,\n",
              "       3058.66411488, 3057.99618624, 3057.32049218, 3056.63749773,\n",
              "       3055.94766845])"
            ]
          },
          "metadata": {},
          "execution_count": 65
        }
      ],
      "source": [
        "y_pred"
      ]
    },
    {
      "cell_type": "code",
      "execution_count": 66,
      "id": "80e600a0",
      "metadata": {
        "id": "80e600a0"
      },
      "outputs": [],
      "source": [
        "import matplotlib.pyplot as plt"
      ]
    },
    {
      "cell_type": "code",
      "execution_count": 67,
      "id": "56785d93",
      "metadata": {
        "id": "56785d93",
        "outputId": "685598d7-317d-4d6b-acdc-d9a4e1b940ff",
        "colab": {
          "base_uri": "https://localhost:8080/",
          "height": 279
        }
      },
      "outputs": [
        {
          "output_type": "display_data",
          "data": {
            "image/png": "[encoded data removed]",
            "text/plain": [
              "<Figure size 432x288 with 1 Axes>"
            ]
          },
          "metadata": {
            "needs_background": "light"
          }
        }
      ],
      "source": [
        "plt.scatter(x, y, color = 'red')\n",
        "plt.plot(x, regressor.predict(x), color = 'blue')\n",
        "plt.xlabel('Package')\n",
        "plt.ylabel('Sales')\n",
        "plt.show()"
      ]
    },
    {
      "cell_type": "code",
      "execution_count": 68,
      "id": "2369659b",
      "metadata": {
        "id": "2369659b"
      },
      "outputs": [],
      "source": [
        "from sklearn.tree import DecisionTreeRegressor"
      ]
    },
    {
      "cell_type": "code",
      "execution_count": 69,
      "id": "98f06f51",
      "metadata": {
        "id": "98f06f51",
        "colab": {
          "base_uri": "https://localhost:8080/"
        },
        "outputId": "373af81f-d5f0-435f-d67b-bd1ef1f3aeec"
      },
      "outputs": [
        {
          "output_type": "execute_result",
          "data": {
            "text/plain": [
              "DecisionTreeRegressor()"
            ]
          },
          "metadata": {},
          "execution_count": 69
        }
      ],
      "source": [
        "regressor=DecisionTreeRegressor()\n",
        "regressor.fit(x,y)"
      ]
    },
    {
      "cell_type": "code",
      "source": [
        "y_pred=regressor.predict(x)"
      ],
      "metadata": {
        "id": "GBWfKDr6hEuS"
      },
      "id": "GBWfKDr6hEuS",
      "execution_count": 70,
      "outputs": []
    },
    {
      "cell_type": "code",
      "source": [
        "import matplotlib.pyplot as plt"
      ],
      "metadata": {
        "id": "hmHNONGahOIa"
      },
      "id": "hmHNONGahOIa",
      "execution_count": 71,
      "outputs": []
    },
    {
      "cell_type": "code",
      "source": [
        "plt.scatter(x, y, color = 'red')\n",
        "plt.plot(x, regressor.predict(x), color = 'blue')\n",
        "plt.xlabel('Package')\n",
        "plt.ylabel('Sales')\n",
        "plt.show()"
      ],
      "metadata": {
        "colab": {
          "base_uri": "https://localhost:8080/",
          "height": 279
        },
        "id": "q1AXx3nehSF_",
        "outputId": "a1594fc6-2efa-4927-f1c8-a04c0b583ce1"
      },
      "id": "q1AXx3nehSF_",
      "execution_count": 72,
      "outputs": [
        {
          "output_type": "display_data",
          "data": {
            "image/png": "[encoded data removed]",
            "text/plain": [
              "<Figure size 432x288 with 1 Axes>"
            ]
          },
          "metadata": {
            "needs_background": "light"
          }
        }
      ]
    },
    {
      "cell_type": "code",
      "source": [
        ""
      ],
      "metadata": {
        "id": "IacNCRjvhrFb"
      },
      "id": "IacNCRjvhrFb",
      "execution_count": null,
      "outputs": []
    }
  ],
  "metadata": {
    "kernelspec": {
      "display_name": "Python 3",
      "language": "python",
      "name": "python3"
    },
    "language_info": {
      "codemirror_mode": {
        "name": "ipython",
        "version": 3
      },
      "file_extension": ".py",
      "mimetype": "text/x-python",
      "name": "python",
      "nbconvert_exporter": "python",
      "pygments_lexer": "ipython3",
      "version": "3.8.8"
    },
    "colab": {
      "name": "Asian Paints Analysis.ipynb",
      "provenance": []
    }
  },
  "nbformat": 4,
  "nbformat_minor": 5
}